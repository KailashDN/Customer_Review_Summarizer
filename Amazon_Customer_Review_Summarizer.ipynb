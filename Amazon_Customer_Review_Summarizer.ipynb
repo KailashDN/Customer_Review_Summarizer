{
 "cells": [
  {
   "cell_type": "markdown",
   "metadata": {},
   "source": [
    "# <div align=\"center\"><span style=\"color:blue\">Abstract: Amazone Fine Foods Customer Reviews Summarizer\n",
    "<span style=\"color:#E74C3C\">**Introduction:**</span> Text summarization is the technique for generating a concise and precise summary of voluminous texts while focusing on the sections that convey useful information, and without losing the overall meaning.\n",
    "Automatic text summarization aims to transform lengthy documents into shortened versions, something which could be difficult and costly to undertake if done manually.\n",
    "\n",
    "<span style=\"color:#E74C3C\">**Problem statement:**</span> Customer reviews can often be long and descriptive. Analyzing these reviews manually, as you can imagine, is really time-consuming. This is where the brilliance of Natural Language Processing can be applied to generate a summary for long reviews.\n",
    "\n",
    "<span style=\"color:#E74C3C\">**Dataset description:**</span>:We will be working on `Amazon Fine Food Reviews` dataset. Our objective here is to generate a summary for the Food reviews using the `abstraction-based approach`."
   ]
  },
  {
   "cell_type": "markdown",
   "metadata": {},
   "source": [
    "## There are broadly two different approaches that are used for text summarization.\n",
    "### 1. Extractive Summarization\n",
    "In extraction-based summarization, a subset of words that represent the most important points is pulled from a piece of text and combined to make a summary. Think of it as a highlighter—which selects the main information from a source text.\n",
    "\n",
    "### 2. Abstractive Summarization:\n",
    "- New sentences is generated from the original text.\n",
    "- This is in contrast to the extractive approach where we used only the sentences that were present. \n",
    "- The sentences generated through abstractive summarization might not be present in the original text\n",
    "\n",
    "#### Approach:\n",
    "<img src=\"Images/Summariztion_appoach.png\" width=600>\n",
    "\n",
    "#### Example:\n",
    "<img src=\"Images/Summarizer_example.png\" width= 600>\n"
   ]
  },
  {
   "cell_type": "markdown",
   "metadata": {},
   "source": [
    "# Import the libraries"
   ]
  },
  {
   "cell_type": "code",
   "execution_count": 1,
   "metadata": {},
   "outputs": [
    {
     "name": "stderr",
     "output_type": "stream",
     "text": [
      "Using TensorFlow backend.\n"
     ]
    }
   ],
   "source": [
    "import numpy as np\n",
    "import pandas as pd \n",
    "import re\n",
    "import math\n",
    "\n",
    "import nltk\n",
    "from nltk.corpus import stopwords\n",
    "\n",
    "from bs4 import BeautifulSoup\n",
    "\n",
    "from keras.preprocessing.text import Tokenizer \n",
    "from keras.preprocessing.sequence import pad_sequences\n",
    "from tensorflow.keras.layers import Input, LSTM, Embedding, Dense, Concatenate, TimeDistributed, Attention\n",
    "from tensorflow.keras.models import Model\n",
    "from tensorflow.keras.callbacks import EarlyStopping, LearningRateScheduler\n",
    "\n",
    "import matplotlib.pyplot as plt\n",
    "from sklearn.model_selection import train_test_split\n",
    "\n",
    "import warnings\n",
    "pd.set_option(\"display.max_colwidth\", 200)\n",
    "warnings.filterwarnings(\"ignore\")"
   ]
  },
  {
   "cell_type": "code",
   "execution_count": 2,
   "metadata": {},
   "outputs": [
    {
     "name": "stderr",
     "output_type": "stream",
     "text": [
      "[nltk_data] Downloading package stopwords to\n",
      "[nltk_data]     C:\\Users\\kaila\\AppData\\Roaming\\nltk_data...\n",
      "[nltk_data]   Package stopwords is already up-to-date!\n"
     ]
    },
    {
     "data": {
      "text/plain": [
       "True"
      ]
     },
     "execution_count": 2,
     "metadata": {},
     "output_type": "execute_result"
    }
   ],
   "source": [
    "#  Download or update the stopword dictionary  \n",
    "nltk.download(\"stopwords\")"
   ]
  },
  {
   "cell_type": "markdown",
   "metadata": {},
   "source": [
    "# Importing Dataset:\n",
    "dataset is taken from Kaggle: https://www.kaggle.com/snap/amazon-fine-food-reviews\n",
    "\n",
    "This dataset consists of reviews of fine foods from amazon. The data span a period of more than 10 years, including all ~500,000 reviews up to October 2012. Reviews include product and user information, ratings, and a plain text review. It also includes reviews from all other Amazon categories.\n",
    "\n",
    "### Data includes:\n",
    "- Reviews from Oct 1999 - Oct 2012\n",
    "- 568,454 reviews\n",
    "- 256,059 users\n",
    "- 74,258 products\n",
    "- 260 users with > 50 reviews"
   ]
  },
  {
   "cell_type": "code",
   "execution_count": 3,
   "metadata": {},
   "outputs": [],
   "source": [
    "data=pd.read_csv(\"Dataset/Reviews.csv\", nrows=100000)\n",
    "# data=pd.read_csv(\"Dataset/Reviews.csv\",nrows=50000)"
   ]
  },
  {
   "cell_type": "markdown",
   "metadata": {},
   "source": [
    "### Displaying sample of Text and Summary we will be working on:"
   ]
  },
  {
   "cell_type": "code",
   "execution_count": 4,
   "metadata": {},
   "outputs": [
    {
     "data": {
      "text/html": [
       "<div>\n",
       "<style scoped>\n",
       "    .dataframe tbody tr th:only-of-type {\n",
       "        vertical-align: middle;\n",
       "    }\n",
       "\n",
       "    .dataframe tbody tr th {\n",
       "        vertical-align: top;\n",
       "    }\n",
       "\n",
       "    .dataframe thead th {\n",
       "        text-align: right;\n",
       "    }\n",
       "</style>\n",
       "<table border=\"1\" class=\"dataframe\">\n",
       "  <thead>\n",
       "    <tr style=\"text-align: right;\">\n",
       "      <th></th>\n",
       "      <th>Text</th>\n",
       "      <th>Summary</th>\n",
       "    </tr>\n",
       "  </thead>\n",
       "  <tbody>\n",
       "    <tr>\n",
       "      <th>0</th>\n",
       "      <td>I have bought several of the Vitality canned dog food products and have found them all to be of good quality. The product looks more like a stew than a processed meat and it smells better. My Labr...</td>\n",
       "      <td>Good Quality Dog Food</td>\n",
       "    </tr>\n",
       "    <tr>\n",
       "      <th>1</th>\n",
       "      <td>Product arrived labeled as Jumbo Salted Peanuts...the peanuts were actually small sized unsalted. Not sure if this was an error or if the vendor intended to represent the product as \"Jumbo\".</td>\n",
       "      <td>Not as Advertised</td>\n",
       "    </tr>\n",
       "    <tr>\n",
       "      <th>2</th>\n",
       "      <td>This is a confection that has been around a few centuries.  It is a light, pillowy citrus gelatin with nuts - in this case Filberts. And it is cut into tiny squares and then liberally coated with ...</td>\n",
       "      <td>\"Delight\" says it all</td>\n",
       "    </tr>\n",
       "    <tr>\n",
       "      <th>3</th>\n",
       "      <td>If you are looking for the secret ingredient in Robitussin I believe I have found it.  I got this in addition to the Root Beer Extract I ordered (which was good) and made some cherry soda.  The fl...</td>\n",
       "      <td>Cough Medicine</td>\n",
       "    </tr>\n",
       "    <tr>\n",
       "      <th>4</th>\n",
       "      <td>Great taffy at a great price.  There was a wide assortment of yummy taffy.  Delivery was very quick.  If your a taffy lover, this is a deal.</td>\n",
       "      <td>Great taffy</td>\n",
       "    </tr>\n",
       "  </tbody>\n",
       "</table>\n",
       "</div>"
      ],
      "text/plain": [
       "                                                                                                                                                                                                      Text  \\\n",
       "0  I have bought several of the Vitality canned dog food products and have found them all to be of good quality. The product looks more like a stew than a processed meat and it smells better. My Labr...   \n",
       "1           Product arrived labeled as Jumbo Salted Peanuts...the peanuts were actually small sized unsalted. Not sure if this was an error or if the vendor intended to represent the product as \"Jumbo\".   \n",
       "2  This is a confection that has been around a few centuries.  It is a light, pillowy citrus gelatin with nuts - in this case Filberts. And it is cut into tiny squares and then liberally coated with ...   \n",
       "3  If you are looking for the secret ingredient in Robitussin I believe I have found it.  I got this in addition to the Root Beer Extract I ordered (which was good) and made some cherry soda.  The fl...   \n",
       "4                                                             Great taffy at a great price.  There was a wide assortment of yummy taffy.  Delivery was very quick.  If your a taffy lover, this is a deal.   \n",
       "\n",
       "                 Summary  \n",
       "0  Good Quality Dog Food  \n",
       "1      Not as Advertised  \n",
       "2  \"Delight\" says it all  \n",
       "3         Cough Medicine  \n",
       "4            Great taffy  "
      ]
     },
     "execution_count": 4,
     "metadata": {},
     "output_type": "execute_result"
    }
   ],
   "source": [
    "data[['Text', 'Summary']][:5]"
   ]
  },
  {
   "cell_type": "markdown",
   "metadata": {},
   "source": [
    "# Data Cleaning:\n",
    "### Drop Duplicates and NA values"
   ]
  },
  {
   "cell_type": "code",
   "execution_count": 5,
   "metadata": {},
   "outputs": [],
   "source": [
    "data.drop_duplicates(subset=['Text'],inplace=True)#dropping duplicates\n",
    "data.dropna(axis=0,inplace=True)#dropping na"
   ]
  },
  {
   "cell_type": "code",
   "execution_count": 6,
   "metadata": {},
   "outputs": [
    {
     "name": "stdout",
     "output_type": "stream",
     "text": [
      "<class 'pandas.core.frame.DataFrame'>\n",
      "Int64Index: 88421 entries, 0 to 99999\n",
      "Data columns (total 10 columns):\n",
      " #   Column                  Non-Null Count  Dtype \n",
      "---  ------                  --------------  ----- \n",
      " 0   Id                      88421 non-null  int64 \n",
      " 1   ProductId               88421 non-null  object\n",
      " 2   UserId                  88421 non-null  object\n",
      " 3   ProfileName             88421 non-null  object\n",
      " 4   HelpfulnessNumerator    88421 non-null  int64 \n",
      " 5   HelpfulnessDenominator  88421 non-null  int64 \n",
      " 6   Score                   88421 non-null  int64 \n",
      " 7   Time                    88421 non-null  int64 \n",
      " 8   Summary                 88421 non-null  object\n",
      " 9   Text                    88421 non-null  object\n",
      "dtypes: int64(5), object(5)\n",
      "memory usage: 7.4+ MB\n"
     ]
    }
   ],
   "source": [
    "data.info()"
   ]
  },
  {
   "cell_type": "markdown",
   "metadata": {},
   "source": [
    "### Expanding the contractions\n",
    "\n",
    "Performing basic preprocessing steps is very important before we get to the model building part. Using messy and uncleaned text data is a potentially disastrous move. So in this step, we will drop all the unwanted symbols, characters, etc. from the text that do not affect the objective of our problem.\n",
    "\n",
    "Here is the dictionary that we will use for expanding the contractions:"
   ]
  },
  {
   "cell_type": "code",
   "execution_count": 7,
   "metadata": {},
   "outputs": [],
   "source": [
    "contraction_mapping = {\"ain't\": \"is not\", \"aren't\": \"are not\",\"can't\": \"cannot\", \"'cause\": \"because\", \"could've\": \"could have\", \"couldn't\": \"could not\",\n",
    "                           \"didn't\": \"did not\",  \"doesn't\": \"does not\", \"don't\": \"do not\", \"hadn't\": \"had not\", \"hasn't\": \"has not\", \"haven't\": \"have not\",\n",
    "                           \"he'd\": \"he would\",\"he'll\": \"he will\", \"he's\": \"he is\", \"how'd\": \"how did\", \"how'd'y\": \"how do you\", \"how'll\": \"how will\", \"how's\": \"how is\",\n",
    "                           \"I'd\": \"I would\", \"I'd've\": \"I would have\", \"I'll\": \"I will\", \"I'll've\": \"I will have\",\"I'm\": \"I am\", \"I've\": \"I have\", \"i'd\": \"i would\",\n",
    "                           \"i'd've\": \"i would have\", \"i'll\": \"i will\",  \"i'll've\": \"i will have\",\"i'm\": \"i am\", \"i've\": \"i have\", \"isn't\": \"is not\", \"it'd\": \"it would\",\n",
    "                           \"it'd've\": \"it would have\", \"it'll\": \"it will\", \"it'll've\": \"it will have\",\"it's\": \"it is\", \"let's\": \"let us\", \"ma'am\": \"madam\",\n",
    "                           \"mayn't\": \"may not\", \"might've\": \"might have\",\"mightn't\": \"might not\",\"mightn't've\": \"might not have\", \"must've\": \"must have\",\n",
    "                           \"mustn't\": \"must not\", \"mustn't've\": \"must not have\", \"needn't\": \"need not\", \"needn't've\": \"need not have\",\"o'clock\": \"of the clock\",\n",
    "                           \"oughtn't\": \"ought not\", \"oughtn't've\": \"ought not have\", \"shan't\": \"shall not\", \"sha'n't\": \"shall not\", \"shan't've\": \"shall not have\",\n",
    "                           \"she'd\": \"she would\", \"she'd've\": \"she would have\", \"she'll\": \"she will\", \"she'll've\": \"she will have\", \"she's\": \"she is\",\n",
    "                           \"should've\": \"should have\", \"shouldn't\": \"should not\", \"shouldn't've\": \"should not have\", \"so've\": \"so have\",\"so's\": \"so as\",\n",
    "                           \"this's\": \"this is\",\"that'd\": \"that would\", \"that'd've\": \"that would have\", \"that's\": \"that is\", \"there'd\": \"there would\",\n",
    "                           \"there'd've\": \"there would have\", \"there's\": \"there is\", \"here's\": \"here is\",\"they'd\": \"they would\", \"they'd've\": \"they would have\",\n",
    "                           \"they'll\": \"they will\", \"they'll've\": \"they will have\", \"they're\": \"they are\", \"they've\": \"they have\", \"to've\": \"to have\",\n",
    "                           \"wasn't\": \"was not\", \"we'd\": \"we would\", \"we'd've\": \"we would have\", \"we'll\": \"we will\", \"we'll've\": \"we will have\", \"we're\": \"we are\",\n",
    "                           \"we've\": \"we have\", \"weren't\": \"were not\", \"what'll\": \"what will\", \"what'll've\": \"what will have\", \"what're\": \"what are\",\n",
    "                           \"what's\": \"what is\", \"what've\": \"what have\", \"when's\": \"when is\", \"when've\": \"when have\", \"where'd\": \"where did\", \"where's\": \"where is\",\n",
    "                           \"where've\": \"where have\", \"who'll\": \"who will\", \"who'll've\": \"who will have\", \"who's\": \"who is\", \"who've\": \"who have\",\n",
    "                           \"why's\": \"why is\", \"why've\": \"why have\", \"will've\": \"will have\", \"won't\": \"will not\", \"won't've\": \"will not have\",\n",
    "                           \"would've\": \"would have\", \"wouldn't\": \"would not\", \"wouldn't've\": \"would not have\", \"y'all\": \"you all\",\n",
    "                           \"y'all'd\": \"you all would\",\"y'all'd've\": \"you all would have\",\"y'all're\": \"you all are\",\"y'all've\": \"you all have\",\n",
    "                           \"you'd\": \"you would\", \"you'd've\": \"you would have\", \"you'll\": \"you will\", \"you'll've\": \"you will have\",\n",
    "                           \"you're\": \"you are\", \"you've\": \"you have\"}"
   ]
  },
  {
   "cell_type": "markdown",
   "metadata": {},
   "source": [
    "## Cleaning Steps:\n",
    "    1. convert everything to lowercase    \n",
    "    2. Removing html tags from datatset using beutifulsoup library \n",
    "    3. Contraction Mapping to change abbrevated statments to understandable english\n",
    "    4. Remove `'s` and text within parenthesis\n",
    "    5. Eliminate punctuations and special characters\n",
    "    6. Remove stopwords\n",
    "    7. Remove token words which are 1 charecter long \n",
    "    \n",
    "### 1. Cleaning Text:"
   ]
  },
  {
   "cell_type": "code",
   "execution_count": 8,
   "metadata": {},
   "outputs": [],
   "source": [
    "# Importing stopwords to remove from our data\n",
    "stop_words = set(stopwords.words('english')) \n",
    "# Here we are using regular expression library to clean data\n",
    "def text_cleaner(text,num):\n",
    "    # Step 1    \n",
    "    newString = text.lower()\n",
    "    # Step 2\n",
    "    newString = BeautifulSoup(newString, \"lxml\").text\n",
    "    newString = re.sub(r'\\([^)]*\\)', '', newString)\n",
    "    newString = re.sub('\"','', newString)\n",
    "    # Step 3\n",
    "    newString = ' '.join([contraction_mapping[t] if t in contraction_mapping else t for t in newString.split(\" \")])    \n",
    "    # step 4\n",
    "    newString = re.sub(r\"'s\\b\",\"\",newString)\n",
    "    # step 5\n",
    "    newString = re.sub(\"[^a-zA-Z]\", \" \", newString) \n",
    "    newString = re.sub('[m]{2,}', 'mm', newString)\n",
    "    # step 6\n",
    "    if(num==0):\n",
    "        tokens = [w for w in newString.split() if not w in stop_words]\n",
    "    else:\n",
    "        tokens=newString.split()\n",
    "    # step 7\n",
    "    long_words=[]\n",
    "    for i in tokens:\n",
    "        if len(i)>1:\n",
    "            long_words.append(i)   \n",
    "    return (\" \".join(long_words)).strip()"
   ]
  },
  {
   "cell_type": "markdown",
   "metadata": {},
   "source": [
    "- The BeautifulSoup library is used for parsing the data.\n",
    "- BeautifulSoup converts the incoming text to Unicode characters and the outgoing text to UTF-8 characters, saving you the hassle of managing different charset encodings while scraping text from the web.\n",
    "- To ensure the textual data is as noise-free as possible, we have performed some basic text cleaning.\n",
    "- To assist us to do the processing, we have used a list of stopwords from the nltk library."
   ]
  },
  {
   "cell_type": "code",
   "execution_count": 9,
   "metadata": {},
   "outputs": [],
   "source": [
    "# cleaning text data:\n",
    "cleaned_text = []\n",
    "for t in data['Text']:\n",
    "    cleaned_text.append(text_cleaner(t,0)) "
   ]
  },
  {
   "cell_type": "code",
   "execution_count": 10,
   "metadata": {},
   "outputs": [],
   "source": [
    "data['cleaned_text'] = cleaned_text"
   ]
  },
  {
   "cell_type": "markdown",
   "metadata": {},
   "source": [
    "### 2. Cleaning Summary:"
   ]
  },
  {
   "cell_type": "code",
   "execution_count": 11,
   "metadata": {},
   "outputs": [],
   "source": [
    "# Cleaning Summary data:\n",
    "cleaned_summary = []\n",
    "for t in data['Summary']:\n",
    "    cleaned_summary.append(text_cleaner(t,1))"
   ]
  },
  {
   "cell_type": "code",
   "execution_count": 12,
   "metadata": {},
   "outputs": [],
   "source": [
    "data['cleaned_summary'] = cleaned_summary"
   ]
  },
  {
   "cell_type": "markdown",
   "metadata": {},
   "source": [
    "#### Droping empty rows"
   ]
  },
  {
   "cell_type": "code",
   "execution_count": 13,
   "metadata": {},
   "outputs": [],
   "source": [
    "data.replace('', np.nan, inplace=True)\n",
    "data.dropna(axis=0,inplace=True)"
   ]
  },
  {
   "cell_type": "markdown",
   "metadata": {},
   "source": [
    "### Data After Cleaning:"
   ]
  },
  {
   "cell_type": "code",
   "execution_count": 14,
   "metadata": {},
   "outputs": [
    {
     "data": {
      "text/html": [
       "<div>\n",
       "<style scoped>\n",
       "    .dataframe tbody tr th:only-of-type {\n",
       "        vertical-align: middle;\n",
       "    }\n",
       "\n",
       "    .dataframe tbody tr th {\n",
       "        vertical-align: top;\n",
       "    }\n",
       "\n",
       "    .dataframe thead th {\n",
       "        text-align: right;\n",
       "    }\n",
       "</style>\n",
       "<table border=\"1\" class=\"dataframe\">\n",
       "  <thead>\n",
       "    <tr style=\"text-align: right;\">\n",
       "      <th></th>\n",
       "      <th>cleaned_text</th>\n",
       "      <th>cleaned_summary</th>\n",
       "    </tr>\n",
       "  </thead>\n",
       "  <tbody>\n",
       "    <tr>\n",
       "      <th>0</th>\n",
       "      <td>bought several vitality canned dog food products found good quality product looks like stew processed meat smells better labrador finicky appreciates product better</td>\n",
       "      <td>good quality dog food</td>\n",
       "    </tr>\n",
       "    <tr>\n",
       "      <th>1</th>\n",
       "      <td>product arrived labeled jumbo salted peanuts peanuts actually small sized unsalted sure error vendor intended represent product jumbo</td>\n",
       "      <td>not as advertised</td>\n",
       "    </tr>\n",
       "    <tr>\n",
       "      <th>2</th>\n",
       "      <td>confection around centuries light pillowy citrus gelatin nuts case filberts cut tiny squares liberally coated powdered sugar tiny mouthful heaven chewy flavorful highly recommend yummy treat famil...</td>\n",
       "      <td>delight says it all</td>\n",
       "    </tr>\n",
       "    <tr>\n",
       "      <th>3</th>\n",
       "      <td>looking secret ingredient robitussin believe found got addition root beer extract ordered made cherry soda flavor medicinal</td>\n",
       "      <td>cough medicine</td>\n",
       "    </tr>\n",
       "    <tr>\n",
       "      <th>4</th>\n",
       "      <td>great taffy great price wide assortment yummy taffy delivery quick taffy lover deal</td>\n",
       "      <td>great taffy</td>\n",
       "    </tr>\n",
       "  </tbody>\n",
       "</table>\n",
       "</div>"
      ],
      "text/plain": [
       "                                                                                                                                                                                              cleaned_text  \\\n",
       "0                                     bought several vitality canned dog food products found good quality product looks like stew processed meat smells better labrador finicky appreciates product better   \n",
       "1                                                                    product arrived labeled jumbo salted peanuts peanuts actually small sized unsalted sure error vendor intended represent product jumbo   \n",
       "2  confection around centuries light pillowy citrus gelatin nuts case filberts cut tiny squares liberally coated powdered sugar tiny mouthful heaven chewy flavorful highly recommend yummy treat famil...   \n",
       "3                                                                              looking secret ingredient robitussin believe found got addition root beer extract ordered made cherry soda flavor medicinal   \n",
       "4                                                                                                                      great taffy great price wide assortment yummy taffy delivery quick taffy lover deal   \n",
       "\n",
       "         cleaned_summary  \n",
       "0  good quality dog food  \n",
       "1      not as advertised  \n",
       "2    delight says it all  \n",
       "3         cough medicine  \n",
       "4            great taffy  "
      ]
     },
     "execution_count": 14,
     "metadata": {},
     "output_type": "execute_result"
    }
   ],
   "source": [
    "data[['cleaned_text', 'cleaned_summary']][:5]"
   ]
  },
  {
   "cell_type": "markdown",
   "metadata": {},
   "source": [
    "# Data Preprocessing:"
   ]
  },
  {
   "cell_type": "markdown",
   "metadata": {},
   "source": [
    "### Understanding the distribution of the sequences:\n",
    "Get an overall idea about the distribution of length of the Text and Summary. This will help us fix the maximum length of the sequence"
   ]
  },
  {
   "cell_type": "code",
   "execution_count": 15,
   "metadata": {},
   "outputs": [
    {
     "data": {
      "image/png": "[encoded data removed]",
      "text/plain": [
       "<Figure size 1296x360 with 2 Axes>"
      ]
     },
     "metadata": {
      "needs_background": "light"
     },
     "output_type": "display_data"
    }
   ],
   "source": [
    "text_word_count = []\n",
    "summary_word_count = []\n",
    "\n",
    "# populate the lists with sentence lengths\n",
    "for i in data['cleaned_text']:\n",
    "      text_word_count.append(len(i.split()))\n",
    "\n",
    "for i in data['cleaned_summary']:\n",
    "      summary_word_count.append(len(i.split()))\n",
    "\n",
    "length_df = pd.DataFrame({'text':text_word_count, 'summary':summary_word_count})\n",
    "length_df.hist(bins = 100, figsize=(18,5))\n",
    "plt.show()"
   ]
  },
  {
   "cell_type": "code",
   "execution_count": 16,
   "metadata": {},
   "outputs": [
    {
     "data": {
      "text/html": [
       "<div>\n",
       "<style scoped>\n",
       "    .dataframe tbody tr th:only-of-type {\n",
       "        vertical-align: middle;\n",
       "    }\n",
       "\n",
       "    .dataframe tbody tr th {\n",
       "        vertical-align: top;\n",
       "    }\n",
       "\n",
       "    .dataframe thead th {\n",
       "        text-align: right;\n",
       "    }\n",
       "</style>\n",
       "<table border=\"1\" class=\"dataframe\">\n",
       "  <thead>\n",
       "    <tr style=\"text-align: right;\">\n",
       "      <th></th>\n",
       "      <th>text</th>\n",
       "      <th>summary</th>\n",
       "    </tr>\n",
       "  </thead>\n",
       "  <tbody>\n",
       "    <tr>\n",
       "      <th>count</th>\n",
       "      <td>88351.000000</td>\n",
       "      <td>88351.000000</td>\n",
       "    </tr>\n",
       "    <tr>\n",
       "      <th>mean</th>\n",
       "      <td>38.792962</td>\n",
       "      <td>4.010549</td>\n",
       "    </tr>\n",
       "    <tr>\n",
       "      <th>std</th>\n",
       "      <td>36.660462</td>\n",
       "      <td>2.476991</td>\n",
       "    </tr>\n",
       "    <tr>\n",
       "      <th>min</th>\n",
       "      <td>2.000000</td>\n",
       "      <td>1.000000</td>\n",
       "    </tr>\n",
       "    <tr>\n",
       "      <th>25%</th>\n",
       "      <td>17.000000</td>\n",
       "      <td>2.000000</td>\n",
       "    </tr>\n",
       "    <tr>\n",
       "      <th>50%</th>\n",
       "      <td>28.000000</td>\n",
       "      <td>3.000000</td>\n",
       "    </tr>\n",
       "    <tr>\n",
       "      <th>75%</th>\n",
       "      <td>47.000000</td>\n",
       "      <td>5.000000</td>\n",
       "    </tr>\n",
       "    <tr>\n",
       "      <th>max</th>\n",
       "      <td>1235.000000</td>\n",
       "      <td>28.000000</td>\n",
       "    </tr>\n",
       "  </tbody>\n",
       "</table>\n",
       "</div>"
      ],
      "text/plain": [
       "               text       summary\n",
       "count  88351.000000  88351.000000\n",
       "mean      38.792962      4.010549\n",
       "std       36.660462      2.476991\n",
       "min        2.000000      1.000000\n",
       "25%       17.000000      2.000000\n",
       "50%       28.000000      3.000000\n",
       "75%       47.000000      5.000000\n",
       "max     1235.000000     28.000000"
      ]
     },
     "execution_count": 16,
     "metadata": {},
     "output_type": "execute_result"
    }
   ],
   "source": [
    "length_df.describe()"
   ]
  },
  {
   "cell_type": "markdown",
   "metadata": {},
   "source": [
    "#### Lets check how much summary data below 8"
   ]
  },
  {
   "cell_type": "code",
   "execution_count": 17,
   "metadata": {},
   "outputs": [
    {
     "name": "stdout",
     "output_type": "stream",
     "text": [
      "Percentage of data summary length below 8:  94.0 %\n"
     ]
    }
   ],
   "source": [
    "cnt=0\n",
    "for i in data['cleaned_summary']:\n",
    "    if(len(i.split())<=8):\n",
    "        cnt=cnt+1\n",
    "print(\"Percentage of data summary length below 8: \", round(cnt/len(data['cleaned_summary']),2) * 100, \"%\")"
   ]
  },
  {
   "cell_type": "markdown",
   "metadata": {},
   "source": [
    "#### Text data analysis:\n",
    "- On average `text` length is between 2 to 200\n",
    "- There is graduale decrease is number of phrases above 100\n",
    "- We will consider 47 as threshold value for `text` length to avoid clipping to much data\n",
    "\n",
    "#### Summary data analysis:\n",
    "- On average `summary` length lies between 3 to 15\n",
    "- the most of data lie between 3 to 10\n",
    "- We will consider 8 as threshold value for `summury` length since 86% of data lies within length of 8"
   ]
  },
  {
   "cell_type": "code",
   "execution_count": 18,
   "metadata": {},
   "outputs": [],
   "source": [
    "max_text_len=45\n",
    "max_summary_len=8"
   ]
  },
  {
   "cell_type": "markdown",
   "metadata": {},
   "source": [
    "#### Removing the reviews and summaries whose length falls below or equal to _max_text_len_ and _max_summary_len_"
   ]
  },
  {
   "cell_type": "code",
   "execution_count": 19,
   "metadata": {},
   "outputs": [],
   "source": [
    "cleaned_text =np.array(data['cleaned_text'])\n",
    "cleaned_summary=np.array(data['cleaned_summary'])\n",
    "\n",
    "short_text=[]\n",
    "short_summary=[]\n",
    "\n",
    "for i in range(len(cleaned_text)):\n",
    "    if(len(cleaned_summary[i].split())<=max_summary_len and len(cleaned_text[i].split())<=max_text_len):\n",
    "        short_text.append(cleaned_text[i])\n",
    "        short_summary.append(cleaned_summary[i])\n",
    "        \n",
    "df=pd.DataFrame({'text':short_text,'summary':short_summary})"
   ]
  },
  {
   "cell_type": "markdown",
   "metadata": {},
   "source": [
    "### Adding _START_ and _END_ tag to Summary:\n",
    "Adding `sostok` as Start tag and `eostok` as End tag help algorithm to understand the end of statement while learning "
   ]
  },
  {
   "cell_type": "code",
   "execution_count": 20,
   "metadata": {},
   "outputs": [],
   "source": [
    "df['summary'] = df['summary'].apply(lambda x : 'sostok '+ x + ' eostok')"
   ]
  },
  {
   "cell_type": "code",
   "execution_count": 21,
   "metadata": {
    "scrolled": true
   },
   "outputs": [
    {
     "name": "stdout",
     "output_type": "stream",
     "text": [
      "1 . Review: bought several vitality canned dog food products found good quality product looks like stew processed meat smells better labrador finicky appreciates product better\n",
      "    Summary: sostok good quality dog food eostok\n",
      "2 . Review: product arrived labeled jumbo salted peanuts peanuts actually small sized unsalted sure error vendor intended represent product jumbo\n",
      "    Summary: sostok not as advertised eostok\n",
      "3 . Review: confection around centuries light pillowy citrus gelatin nuts case filberts cut tiny squares liberally coated powdered sugar tiny mouthful heaven chewy flavorful highly recommend yummy treat familiar story lewis lion witch wardrobe treat seduces edmund selling brother sisters witch\n",
      "    Summary: sostok delight says it all eostok\n",
      "4 . Review: looking secret ingredient robitussin believe found got addition root beer extract ordered made cherry soda flavor medicinal\n",
      "    Summary: sostok cough medicine eostok\n",
      "5 . Review: great taffy great price wide assortment yummy taffy delivery quick taffy lover deal\n",
      "    Summary: sostok great taffy eostok\n"
     ]
    }
   ],
   "source": [
    "# data[['cleaned_text', 'cleaned_summary']][:5]\n",
    "for i in range(5):\n",
    "    print(i+1,\". Review:\",df['text'][i])\n",
    "    print(\"    Summary:\",df['summary'][i])\n",
    "#     print(\"\\n\")"
   ]
  },
  {
   "cell_type": "markdown",
   "metadata": {},
   "source": [
    "# Data Modeling:"
   ]
  },
  {
   "cell_type": "markdown",
   "metadata": {},
   "source": [
    "Splitting data into test train split for training and validation"
   ]
  },
  {
   "cell_type": "code",
   "execution_count": 22,
   "metadata": {},
   "outputs": [],
   "source": [
    "x_tr,x_val,y_tr,y_val = train_test_split(np.array(df['text']),\n",
    "                                         np.array(df['summary']),\n",
    "                                         test_size=0.2,\n",
    "                                         random_state = 0,\n",
    "                                         shuffle=True)"
   ]
  },
  {
   "cell_type": "markdown",
   "metadata": {},
   "source": [
    "## Tokenization:\n",
    "A tokenizer builds the vocabulary and converts a word sequence to an integer sequence."
   ]
  },
  {
   "cell_type": "markdown",
   "metadata": {},
   "source": [
    "### Rarewords and its Coverage:\n",
    "The words which has count below 4 are consider as rarewords in text data"
   ]
  },
  {
   "cell_type": "code",
   "execution_count": 23,
   "metadata": {},
   "outputs": [
    {
     "name": "stdout",
     "output_type": "stream",
     "text": [
      "% of rare words in vocabulary: 64.9587808322659\n",
      "Total Coverage of rare words: 2.384242626858984\n"
     ]
    }
   ],
   "source": [
    "#prepare a tokenizer for reviews on training data\n",
    "x_tokenizer = Tokenizer() \n",
    "x_tokenizer.fit_on_texts(list(x_tr))\n",
    "\n",
    "thresh=4\n",
    "\n",
    "cnt=0\n",
    "tot_cnt=0\n",
    "freq=0\n",
    "tot_freq=0\n",
    "\n",
    "for key,value in x_tokenizer.word_counts.items():\n",
    "    tot_cnt=tot_cnt+1\n",
    "    tot_freq=tot_freq+value\n",
    "    if(value<thresh):\n",
    "        cnt=cnt+1\n",
    "        freq=freq+value\n",
    "    \n",
    "print(\"% of rare words in vocabulary:\", (cnt/tot_cnt)*100)\n",
    "print(\"Total Coverage of rare words:\", (freq/tot_freq)*100)"
   ]
  },
  {
   "cell_type": "markdown",
   "metadata": {},
   "source": [
    "- `tot_cnt` gives the size of vocabulary (which means every unique words in the text)\n",
    "- `cnt` gives me the nomber of rare words whose count falls below threshold\n",
    "- `tot_cnt` - `cnt` gives me the top most common words"
   ]
  },
  {
   "cell_type": "markdown",
   "metadata": {},
   "source": [
    "### Text tokenization:"
   ]
  },
  {
   "cell_type": "code",
   "execution_count": 24,
   "metadata": {
    "scrolled": true
   },
   "outputs": [
    {
     "name": "stdout",
     "output_type": "stream",
     "text": [
      "Tokenized training text value:\n",
      " [  11 1232 1143    1 1852 1768 2282 2602  900   11   82 6400  240   11\n",
      " 1655   70  477 5794   11 3501 1192    0    0    0    0    0    0    0\n",
      "    0    0    0    0    0    0    0    0    0    0    0    0    0    0\n",
      "    0    0    0]\n",
      "\n",
      "Tokenized validation text value:\n",
      " [  20  135 1513  990   50 2293 5269 8308 9950    8 2293  151 1083    6\n",
      "   86  271   35   21  131 1305 2293   10   78 1252   86   78  983   10\n",
      " 1072    3    5  207    6  271  195  964    8    0    0    0    0    0\n",
      "    0    0    0]\n",
      "\n",
      "text size: 10670\n"
     ]
    }
   ],
   "source": [
    "# Create tokenizer object for text data\n",
    "x_tokenizer = Tokenizer(num_words=tot_cnt-cnt)\n",
    "#prepare a tokenizer for reviews on training data\n",
    "x_tokenizer.fit_on_texts(list(x_tr))\n",
    "\n",
    "#convert text sequences into integer sequences\n",
    "x_tr_seq    =   x_tokenizer.texts_to_sequences(x_tr) \n",
    "x_val_seq   =   x_tokenizer.texts_to_sequences(x_val)\n",
    "\n",
    "#padding zero upto maximum length\n",
    "x_tr    =   pad_sequences(x_tr_seq,  maxlen=max_text_len, padding='post')\n",
    "x_val   =   pad_sequences(x_val_seq, maxlen=max_text_len, padding='post')\n",
    "\n",
    "#size of vocabulary ( +1 for padding token)\n",
    "x_voc   =  x_tokenizer.num_words + 1\n",
    "\n",
    "print(f'Tokenized training text value:\\n {x_tr[3]}')\n",
    "print(f'\\nTokenized validation text value:\\n {x_val[3]}')\n",
    "print(f\"\\ntext size: {x_voc}\")"
   ]
  },
  {
   "cell_type": "markdown",
   "metadata": {},
   "source": [
    "### Rarewords and its Coverage¶\n",
    "The words which has count below 6 are consider as rarewords in summary"
   ]
  },
  {
   "cell_type": "code",
   "execution_count": 25,
   "metadata": {},
   "outputs": [
    {
     "name": "stdout",
     "output_type": "stream",
     "text": [
      "% of rare words in vocabulary: 77.5750441436139\n",
      "Total Coverage of rare words: 4.942484676846128\n"
     ]
    }
   ],
   "source": [
    "#prepare a tokenizer for reviews on training data\n",
    "y_tokenizer = Tokenizer()   \n",
    "y_tokenizer.fit_on_texts(list(y_tr))\n",
    "\n",
    "thresh=6\n",
    "\n",
    "cnt=0\n",
    "tot_cnt=0\n",
    "freq=0\n",
    "tot_freq=0\n",
    "\n",
    "for key,value in y_tokenizer.word_counts.items():\n",
    "    tot_cnt=tot_cnt+1\n",
    "    tot_freq=tot_freq+value\n",
    "    if(value<thresh):\n",
    "        cnt=cnt+1\n",
    "        freq=freq+value\n",
    "    \n",
    "print(\"% of rare words in vocabulary:\",(cnt/tot_cnt)*100)\n",
    "print(\"Total Coverage of rare words:\",(freq/tot_freq)*100)"
   ]
  },
  {
   "cell_type": "markdown",
   "metadata": {},
   "source": [
    "### Summary tokenization:"
   ]
  },
  {
   "cell_type": "code",
   "execution_count": 26,
   "metadata": {
    "scrolled": true
   },
   "outputs": [
    {
     "name": "stdout",
     "output_type": "stream",
     "text": [
      "Tokenized training Summary value:\n",
      " [  1 690 347  92 874 479 432   2]\n",
      "\n",
      "Tokenized validation Summary value:\n",
      " [  1 268  10  16   2   0   0   0]\n",
      "\n",
      "Summary size: 2287\n"
     ]
    }
   ],
   "source": [
    "# Create tokenizer object for Summary data\n",
    "y_tokenizer = Tokenizer(num_words=tot_cnt-cnt) \n",
    "y_tokenizer.fit_on_texts(list(y_tr))\n",
    "\n",
    "#convert text sequences into integer sequences\n",
    "y_tr_seq    =   y_tokenizer.texts_to_sequences(y_tr) \n",
    "y_val_seq   =   y_tokenizer.texts_to_sequences(y_val) \n",
    "\n",
    "#padding zero upto maximum length\n",
    "y_tr    =   pad_sequences(y_tr_seq, maxlen=max_summary_len, padding='post')\n",
    "y_val   =   pad_sequences(y_val_seq, maxlen=max_summary_len, padding='post')\n",
    "\n",
    "#size of vocabulary\n",
    "y_voc  =   y_tokenizer.num_words +1\n",
    "\n",
    "print(f'Tokenized training Summary value:\\n {y_tr[3]}')\n",
    "print(f'\\nTokenized validation Summary value:\\n {y_val[3]}')\n",
    "print(f\"\\nSummary size: {y_voc}\")"
   ]
  },
  {
   "cell_type": "code",
   "execution_count": 27,
   "metadata": {},
   "outputs": [
    {
     "data": {
      "text/plain": [
       "(49982, 49982)"
      ]
     },
     "execution_count": 27,
     "metadata": {},
     "output_type": "execute_result"
    }
   ],
   "source": [
    "y_tokenizer.word_counts['sostok'],len(y_tr)"
   ]
  },
  {
   "cell_type": "markdown",
   "metadata": {},
   "source": [
    "#### Removing rows that contain only START and END tokens"
   ]
  },
  {
   "cell_type": "code",
   "execution_count": 28,
   "metadata": {},
   "outputs": [],
   "source": [
    "ind=[]\n",
    "for i in range(len(y_tr)):\n",
    "    cnt=0\n",
    "    for j in y_tr[i]:\n",
    "        if j!=0:\n",
    "            cnt=cnt+1\n",
    "    if(cnt==2):\n",
    "        ind.append(i)\n",
    "\n",
    "y_tr=np.delete(y_tr,ind, axis=0)\n",
    "x_tr=np.delete(x_tr,ind, axis=0)"
   ]
  },
  {
   "cell_type": "code",
   "execution_count": 29,
   "metadata": {},
   "outputs": [],
   "source": [
    "ind=[]\n",
    "for i in range(len(y_val)):\n",
    "    cnt=0\n",
    "    for j in y_val[i]:\n",
    "        if j!=0:\n",
    "            cnt=cnt+1\n",
    "    if(cnt==2):\n",
    "        ind.append(i)\n",
    "\n",
    "y_val=np.delete(y_val,ind, axis=0)\n",
    "x_val=np.delete(x_val,ind, axis=0)"
   ]
  },
  {
   "attachments": {
    "image.png": {
     "image/png": "[encoded data removed]"
    }
   },
   "cell_type": "markdown",
   "metadata": {},
   "source": [
    "## Creating LSTM model:\n",
    "#### We can set up the Encoder-Decoder in 2 phases:\n",
    "1. Training phase\n",
    "2. Inference phase\n",
    "\n",
    "## 1.Training phase:\n",
    "In the training phase, we will first set up the encoder and decoder. We will then train the model to predict the target sequence offset by one timestep.\n",
    "![image.png](attachment:image.png)\n",
    "[image credit: https://miro.medium.com/max/864/1*5nvwJsH4EfONv_fdKNvobA.png]\n",
    "\n",
    "#### Encoder:\n",
    "**A stack of several recurrent units (LSTM or GRU cells for better performance) where each accepts a single element of the input sequence, collects information for that element and propagates it forward.**\n",
    "\n",
    "#### Decoder:\n",
    "**The decoder is also an LSTM network which reads the entire target sequence word-by-word and predicts the same sequence offset by one timestep. The decoder is trained to predict the next word in the sequence given the previous word.**"
   ]
  },
  {
   "cell_type": "code",
   "execution_count": 30,
   "metadata": {},
   "outputs": [],
   "source": [
    "# importimg attention function from https://github.com/thushv89/attention_keras/blob/master/src/layers/attention.py\n",
    "from attention import AttentionLayer"
   ]
  },
  {
   "cell_type": "markdown",
   "metadata": {},
   "source": [
    "### Here, we are building a 3 stacked LSTM model:\n",
    "1. **Embedding Layer**:  we use an embedding layer to compress the input feature space into a smaller one.\n",
    "2. **Encoder Layer**: The encoder LSTM is used to process the entire input sentence and encode it into a context vector, which is the last hidden state of the LSTM/RNN.\n",
    "3. **Decoder Layer**: The decoder LSTM units produce the words in a sentence one after another\n",
    "3. **Attention Layer**: Attention is one component of a network’s architecture, and is in charge of managing and quantifying the interdependence:\n",
    "    1. Between the input and output elements (General Attention)\n",
    "    2. Within the input elements (Self-Attention)\n",
    "    \n",
    "We are implementing General/Global Attention\n"
   ]
  },
  {
   "cell_type": "code",
   "execution_count": 31,
   "metadata": {},
   "outputs": [
    {
     "name": "stdout",
     "output_type": "stream",
     "text": [
      "WARNING:tensorflow:From C:\\Users\\kaila\\Anaconda3\\envs\\NLP_GPU_TF15\\lib\\site-packages\\keras\\backend\\tensorflow_backend.py:95: The name tf.reset_default_graph is deprecated. Please use tf.compat.v1.reset_default_graph instead.\n",
      "\n",
      "WARNING:tensorflow:From C:\\Users\\kaila\\Anaconda3\\envs\\NLP_GPU_TF15\\lib\\site-packages\\keras\\backend\\tensorflow_backend.py:98: The name tf.placeholder_with_default is deprecated. Please use tf.compat.v1.placeholder_with_default instead.\n",
      "\n",
      "WARNING:tensorflow:From C:\\Users\\kaila\\Anaconda3\\envs\\NLP_GPU_TF15\\lib\\site-packages\\keras\\backend\\tensorflow_backend.py:102: The name tf.get_default_graph is deprecated. Please use tf.compat.v1.get_default_graph instead.\n",
      "\n",
      "WARNING:tensorflow:From C:\\Users\\kaila\\Anaconda3\\envs\\NLP_GPU_TF15\\lib\\site-packages\\tensorflow_core\\python\\keras\\initializers.py:119: calling RandomUniform.__init__ (from tensorflow.python.ops.init_ops) with dtype is deprecated and will be removed in a future version.\n",
      "Instructions for updating:\n",
      "Call initializer instance with the dtype argument instead of passing it to the constructor\n",
      "WARNING:tensorflow:From C:\\Users\\kaila\\Anaconda3\\envs\\NLP_GPU_TF15\\lib\\site-packages\\tensorflow_core\\python\\ops\\resource_variable_ops.py:1630: calling BaseResourceVariable.__init__ (from tensorflow.python.ops.resource_variable_ops) with constraint is deprecated and will be removed in a future version.\n",
      "Instructions for updating:\n",
      "If using Keras pass *_constraint arguments to layers.\n"
     ]
    }
   ],
   "source": [
    "from keras import backend as K \n",
    "K.clear_session()\n",
    "\n",
    "latent_dim = 300\n",
    "embedding_dim=100\n",
    "\n",
    "# Encoder\n",
    "encoder_inputs = Input(shape=(max_text_len,))\n",
    "\n",
    "#embedding layer\n",
    "enc_emb =  Embedding(x_voc, embedding_dim,trainable=True)(encoder_inputs)\n",
    "\n",
    "#encoder lstm 1\n",
    "encoder_lstm1 = LSTM(latent_dim,return_sequences=True,return_state=True,dropout=0.4,recurrent_dropout=0.4)\n",
    "encoder_output1, state_h1, state_c1 = encoder_lstm1(enc_emb)\n",
    "\n",
    "#encoder lstm 2\n",
    "encoder_lstm2 = LSTM(latent_dim,return_sequences=True,return_state=True,dropout=0.4,recurrent_dropout=0.4)\n",
    "encoder_output2, state_h2, state_c2 = encoder_lstm2(encoder_output1)\n",
    "\n",
    "#encoder lstm 3\n",
    "encoder_lstm3=LSTM(latent_dim, return_state=True, return_sequences=True,dropout=0.4,recurrent_dropout=0.4)\n",
    "encoder_outputs, state_h, state_c= encoder_lstm3(encoder_output2)\n",
    "\n",
    "# Set up the decoder, using `encoder_states` as initial state.\n",
    "decoder_inputs = Input(shape=(None,))\n",
    "\n",
    "#embedding layer\n",
    "dec_emb_layer = Embedding(y_voc, embedding_dim,trainable=True)\n",
    "dec_emb = dec_emb_layer(decoder_inputs)\n",
    "\n",
    "decoder_lstm = LSTM(latent_dim, return_sequences=True, return_state=True,dropout=0.4,recurrent_dropout=0.2)\n",
    "decoder_outputs,decoder_fwd_state, decoder_back_state = decoder_lstm(dec_emb,initial_state=[state_h, state_c])\n",
    "\n",
    "# Attention layer\n",
    "attn_layer = AttentionLayer(name='attention_layer')\n",
    "attn_out, attn_states = attn_layer([encoder_outputs, decoder_outputs])\n",
    "\n",
    "# Concat attention input and decoder LSTM output\n",
    "decoder_concat_input = Concatenate(axis=-1, name='concat_layer')([decoder_outputs, attn_out])\n",
    "\n",
    "#dense layer\n",
    "decoder_dense =  TimeDistributed(Dense(y_voc, activation='softmax'))\n",
    "decoder_outputs = decoder_dense(decoder_concat_input)\n",
    "\n",
    "# Define the model \n",
    "model = Model([encoder_inputs, decoder_inputs], decoder_outputs)"
   ]
  },
  {
   "cell_type": "markdown",
   "metadata": {},
   "source": [
    "### Model Summary"
   ]
  },
  {
   "cell_type": "code",
   "execution_count": 32,
   "metadata": {},
   "outputs": [
    {
     "name": "stdout",
     "output_type": "stream",
     "text": [
      "Model: \"model\"\n",
      "__________________________________________________________________________________________________\n",
      "Layer (type)                    Output Shape         Param #     Connected to                     \n",
      "==================================================================================================\n",
      "input_1 (InputLayer)            [(None, 45)]         0                                            \n",
      "__________________________________________________________________________________________________\n",
      "embedding (Embedding)           (None, 45, 100)      1067000     input_1[0][0]                    \n",
      "__________________________________________________________________________________________________\n",
      "lstm (LSTM)                     [(None, 45, 300), (N 481200      embedding[0][0]                  \n",
      "__________________________________________________________________________________________________\n",
      "input_2 (InputLayer)            [(None, None)]       0                                            \n",
      "__________________________________________________________________________________________________\n",
      "lstm_1 (LSTM)                   [(None, 45, 300), (N 721200      lstm[0][0]                       \n",
      "__________________________________________________________________________________________________\n",
      "embedding_1 (Embedding)         (None, None, 100)    228700      input_2[0][0]                    \n",
      "__________________________________________________________________________________________________\n",
      "lstm_2 (LSTM)                   [(None, 45, 300), (N 721200      lstm_1[0][0]                     \n",
      "__________________________________________________________________________________________________\n",
      "lstm_3 (LSTM)                   [(None, None, 300),  481200      embedding_1[0][0]                \n",
      "                                                                 lstm_2[0][1]                     \n",
      "                                                                 lstm_2[0][2]                     \n",
      "__________________________________________________________________________________________________\n",
      "attention_layer (AttentionLayer ((None, None, 300),  180300      lstm_2[0][0]                     \n",
      "                                                                 lstm_3[0][0]                     \n",
      "__________________________________________________________________________________________________\n",
      "concat_layer (Concatenate)      (None, None, 600)    0           lstm_3[0][0]                     \n",
      "                                                                 attention_layer[0][0]            \n",
      "__________________________________________________________________________________________________\n",
      "time_distributed (TimeDistribut (None, None, 2287)   1374487     concat_layer[0][0]               \n",
      "==================================================================================================\n",
      "Total params: 5,255,287\n",
      "Trainable params: 5,255,287\n",
      "Non-trainable params: 0\n",
      "__________________________________________________________________________________________________\n"
     ]
    }
   ],
   "source": [
    "model.summary()"
   ]
  },
  {
   "cell_type": "markdown",
   "metadata": {},
   "source": [
    "## Compile the model:\n",
    "We are using sparse categorical cross-entropy as the loss function since it converts the integer sequence to a one-hot vector\n",
    "This overcomes any memory issues."
   ]
  },
  {
   "cell_type": "code",
   "execution_count": 33,
   "metadata": {},
   "outputs": [],
   "source": [
    "model.compile(optimizer='rmsprop', loss='sparse_categorical_crossentropy')"
   ]
  },
  {
   "cell_type": "markdown",
   "metadata": {},
   "source": [
    "### Early Stopping:\n",
    "- `Early stopping` is useed to stop trainning when there is no improvement after substantial number of epoch\n",
    "- we are keeping `patience` level 5 which mean we will be monitoring ateast 5 epoch to see if there is improvement in model\n",
    "- In `min mode` the training will stop when the quantity monitored(validation loss) has stopped decreasing"
   ]
  },
  {
   "cell_type": "code",
   "execution_count": 34,
   "metadata": {},
   "outputs": [],
   "source": [
    "es = EarlyStopping(monitor='val_loss', mode='min', verbose=2, patience=15)"
   ]
  },
  {
   "cell_type": "markdown",
   "metadata": {},
   "source": [
    "### Learn Rate Decay:"
   ]
  },
  {
   "cell_type": "code",
   "execution_count": 35,
   "metadata": {},
   "outputs": [],
   "source": [
    "def step_decay(epoch):\n",
    "    initial_lrate = 0.001\n",
    "    drop = 0.5\n",
    "    epochs_drop = 10.0\n",
    "    lrate = initial_lrate * math.pow(drop, math.floor((1+epoch)/epochs_drop))\n",
    "    return lrate\n",
    "\n",
    "def exp_decay(epoch):\n",
    "    initial_lrate = 0.001\n",
    "    k = 0.01\n",
    "    lrate = initial_lrate * math.exp(-k*t)\n",
    "    return lrate\n",
    "\n",
    "lrate = LearningRateScheduler(step_decay)\n",
    "# lrate = LearningRateScheduler(exp_decay)"
   ]
  },
  {
   "cell_type": "markdown",
   "metadata": {},
   "source": [
    "## Training Model:\n",
    "- we are training our model for 100 epochs with 128 batch size "
   ]
  },
  {
   "cell_type": "markdown",
   "metadata": {},
   "source": [
    "#### Check Available GPU"
   ]
  },
  {
   "cell_type": "code",
   "execution_count": 36,
   "metadata": {},
   "outputs": [
    {
     "name": "stdout",
     "output_type": "stream",
     "text": [
      "1.15.0\n",
      "local_devices:  [name: \"/device:CPU:0\"\n",
      "device_type: \"CPU\"\n",
      "memory_limit: 268435456\n",
      "locality {\n",
      "}\n",
      "incarnation: 956900051269148884\n",
      ", name: \"/device:XLA_CPU:0\"\n",
      "device_type: \"XLA_CPU\"\n",
      "memory_limit: 17179869184\n",
      "locality {\n",
      "}\n",
      "incarnation: 18032941981553788356\n",
      "physical_device_desc: \"device: XLA_CPU device\"\n",
      ", name: \"/device:GPU:0\"\n",
      "device_type: \"GPU\"\n",
      "memory_limit: 11897235047\n",
      "locality {\n",
      "  bus_id: 1\n",
      "  links {\n",
      "  }\n",
      "}\n",
      "incarnation: 4967635920100335010\n",
      "physical_device_desc: \"device: 0, name: Tesla P100-PCIE-12GB, pci bus id: 0000:03:00.0, compute capability: 6.0\"\n",
      ", name: \"/device:XLA_GPU:0\"\n",
      "device_type: \"XLA_GPU\"\n",
      "memory_limit: 17179869184\n",
      "locality {\n",
      "}\n",
      "incarnation: 16870871929938998789\n",
      "physical_device_desc: \"device: XLA_GPU device\"\n",
      "]\n",
      "\n",
      "------------ Available GPUs: ------------\n",
      " [PhysicalDevice(name='/physical_device:GPU:0', device_type='GPU')]\n",
      "Num GPUs Available:  1\n",
      "1  - Physical GPUs, 1  - Logical GPUs\n"
     ]
    }
   ],
   "source": [
    "import tensorflow as tf\n",
    "from tensorflow import keras\n",
    "from tensorflow.python.client import device_lib\n",
    "print(tf.__version__)\n",
    "\n",
    "def check_GPU():\n",
    "    local_devices = device_lib.list_local_devices()\n",
    "    print(\"local_devices: \", local_devices)\n",
    "    print(\"\\n------------ Available GPUs: ------------\\n\", tf.config.experimental.list_physical_devices('GPU'))\n",
    "    print(\"Num GPUs Available: \", len(tf.config.experimental.list_physical_devices('GPU')))\n",
    "    gpus = tf.config.experimental.list_physical_devices('GPU')\n",
    "    if gpus:\n",
    "        try:\n",
    "            # Currently, memory growth needs to be the same across GPUs\n",
    "            for gpu in gpus:\n",
    "                tf.config.experimental.set_memory_growth(gpu, True)\n",
    "            logical_gpus = tf.config.experimental.list_logical_devices('GPU')\n",
    "            print(len(gpus), \" - Physical GPUs,\", len(logical_gpus), \" - Logical GPUs\")\n",
    "        except RuntimeError as e:\n",
    "            # Memory growth must be set before GPUs have been initialized\n",
    "            print(e)\n",
    "\n",
    "\n",
    "check_GPU()"
   ]
  },
  {
   "cell_type": "code",
   "execution_count": 37,
   "metadata": {},
   "outputs": [
    {
     "name": "stdout",
     "output_type": "stream",
     "text": [
      "WARNING:tensorflow:From /home/nadkar.k/.conda/envs/NLP_GPU_TF15/lib/python3.6/site-packages/tensorflow_core/python/ops/math_grad.py:1424: where (from tensorflow.python.ops.array_ops) is deprecated and will be removed in a future version.\n",
      "Instructions for updating:\n",
      "Use tf.where in 2.0, which has the same broadcast rule as np.where\n",
      "Train on 48889 samples, validate on 12200 samples\n",
      "Epoch 1/100\n",
      "48889/48889 [==============================] - 100s 2ms/sample - loss: 2.9471 - val_loss: 2.6900\n",
      "Epoch 2/100\n",
      "48889/48889 [==============================] - 96s 2ms/sample - loss: 2.6398 - val_loss: 2.5033\n",
      "Epoch 3/100\n",
      "48889/48889 [==============================] - 95s 2ms/sample - loss: 2.4775 - val_loss: 2.3840\n",
      "Epoch 4/100\n",
      "48889/48889 [==============================] - 93s 2ms/sample - loss: 2.3785 - val_loss: 2.3241\n",
      "Epoch 5/100\n",
      "48889/48889 [==============================] - 94s 2ms/sample - loss: 2.3098 - val_loss: 2.2799\n",
      "Epoch 6/100\n",
      "48889/48889 [==============================] - 94s 2ms/sample - loss: 2.2558 - val_loss: 2.2445\n",
      "Epoch 7/100\n",
      "48889/48889 [==============================] - 92s 2ms/sample - loss: 2.2115 - val_loss: 2.2153\n",
      "Epoch 8/100\n",
      "48889/48889 [==============================] - 92s 2ms/sample - loss: 2.1728 - val_loss: 2.1916\n",
      "Epoch 9/100\n",
      "48889/48889 [==============================] - 91s 2ms/sample - loss: 2.1373 - val_loss: 2.1707\n",
      "Epoch 10/100\n",
      "48889/48889 [==============================] - 92s 2ms/sample - loss: 2.1053 - val_loss: 2.1547\n",
      "Epoch 11/100\n",
      "48889/48889 [==============================] - 92s 2ms/sample - loss: 2.0761 - val_loss: 2.1443\n",
      "Epoch 12/100\n",
      "48889/48889 [==============================] - 93s 2ms/sample - loss: 2.0518 - val_loss: 2.1328\n",
      "Epoch 13/100\n",
      "48889/48889 [==============================] - 94s 2ms/sample - loss: 2.0265 - val_loss: 2.1281\n",
      "Epoch 14/100\n",
      "48889/48889 [==============================] - 90s 2ms/sample - loss: 2.0066 - val_loss: 2.1197\n",
      "Epoch 15/100\n",
      "48889/48889 [==============================] - 92s 2ms/sample - loss: 1.9855 - val_loss: 2.1085\n",
      "Epoch 16/100\n",
      "48889/48889 [==============================] - 92s 2ms/sample - loss: 1.9654 - val_loss: 2.1079\n",
      "Epoch 17/100\n",
      "48889/48889 [==============================] - 93s 2ms/sample - loss: 1.9496 - val_loss: 2.1076\n",
      "Epoch 18/100\n",
      "48889/48889 [==============================] - 93s 2ms/sample - loss: 1.9324 - val_loss: 2.1071\n",
      "Epoch 19/100\n",
      "48889/48889 [==============================] - 94s 2ms/sample - loss: 1.9153 - val_loss: 2.1044\n",
      "Epoch 20/100\n",
      "48889/48889 [==============================] - 92s 2ms/sample - loss: 1.9020 - val_loss: 2.0980\n",
      "Epoch 21/100\n",
      "48889/48889 [==============================] - 93s 2ms/sample - loss: 1.8876 - val_loss: 2.1001\n",
      "Epoch 22/100\n",
      "48889/48889 [==============================] - 92s 2ms/sample - loss: 1.8712 - val_loss: 2.0976\n",
      "Epoch 23/100\n",
      "48889/48889 [==============================] - 92s 2ms/sample - loss: 1.8602 - val_loss: 2.0933\n",
      "Epoch 24/100\n",
      "48889/48889 [==============================] - 94s 2ms/sample - loss: 1.8485 - val_loss: 2.1017\n",
      "Epoch 25/100\n",
      "48889/48889 [==============================] - 93s 2ms/sample - loss: 1.8378 - val_loss: 2.1003\n",
      "Epoch 26/100\n",
      "48889/48889 [==============================] - 92s 2ms/sample - loss: 1.8263 - val_loss: 2.0951\n",
      "Epoch 27/100\n",
      "48889/48889 [==============================] - 93s 2ms/sample - loss: 1.8144 - val_loss: 2.1018\n",
      "Epoch 28/100\n",
      "48889/48889 [==============================] - 92s 2ms/sample - loss: 1.8037 - val_loss: 2.1000\n",
      "Epoch 29/100\n",
      "48889/48889 [==============================] - 93s 2ms/sample - loss: 1.7935 - val_loss: 2.1019\n",
      "Epoch 30/100\n",
      "48889/48889 [==============================] - 93s 2ms/sample - loss: 1.7833 - val_loss: 2.1015\n",
      "Epoch 31/100\n",
      "48889/48889 [==============================] - 91s 2ms/sample - loss: 1.7726 - val_loss: 2.1035\n",
      "Epoch 32/100\n",
      "48889/48889 [==============================] - 94s 2ms/sample - loss: 1.7603 - val_loss: 2.1027\n",
      "Epoch 33/100\n",
      "48889/48889 [==============================] - 90s 2ms/sample - loss: 1.7548 - val_loss: 2.1119\n",
      "Epoch 34/100\n",
      "48889/48889 [==============================] - 93s 2ms/sample - loss: 1.7458 - val_loss: 2.1073\n",
      "Epoch 35/100\n",
      "48889/48889 [==============================] - 93s 2ms/sample - loss: 1.7348 - val_loss: 2.1116\n",
      "Epoch 36/100\n",
      "48889/48889 [==============================] - 92s 2ms/sample - loss: 1.7281 - val_loss: 2.1090\n",
      "Epoch 37/100\n",
      "48889/48889 [==============================] - 94s 2ms/sample - loss: 1.7204 - val_loss: 2.1127\n",
      "Epoch 38/100\n",
      "48889/48889 [==============================] - 92s 2ms/sample - loss: 1.7100 - val_loss: 2.1233\n",
      "Epoch 00038: early stopping\n"
     ]
    }
   ],
   "source": [
    "history = model.fit([x_tr,y_tr[:,:-1]],\n",
    "                    y_tr.reshape(y_tr.shape[0],y_tr.shape[1], 1)[:,1:], \n",
    "                    epochs=100,\n",
    "                    callbacks=[es],\n",
    "                    batch_size=128,\n",
    "                    validation_data=([x_val,y_val[:,:-1]],\n",
    "                                     y_val.reshape(y_val.shape[0],y_val.shape[1], 1)[:,1:]))"
   ]
  },
  {
   "cell_type": "code",
   "execution_count": 38,
   "metadata": {},
   "outputs": [],
   "source": [
    "model.save('lstm_model.h5', include_optimizer=True)"
   ]
  },
  {
   "cell_type": "markdown",
   "metadata": {},
   "source": [
    "### Understanding the Diagnostic plot:\n",
    "Plotting trainig vs testing validation loss"
   ]
  },
  {
   "cell_type": "code",
   "execution_count": 47,
   "metadata": {},
   "outputs": [
    {
     "data": {
      "image/png": "[encoded data removed]",
      "text/plain": [
       "<Figure size 1152x504 with 1 Axes>"
      ]
     },
     "metadata": {
      "needs_background": "light"
     },
     "output_type": "display_data"
    }
   ],
   "source": [
    "plt.figure(figsize=(16,7))\n",
    "plt.plot(history.history['loss'], label='train')\n",
    "plt.plot(history.history['val_loss'], label='test')\n",
    "plt.title('Train-Test Validation loss', fontsize=18)\n",
    "plt.ylabel('Validation loss', fontsize=15)\n",
    "plt.xlabel('Number of epochs', fontsize=15)\n",
    "plt.legend()\n",
    "plt.show()"
   ]
  },
  {
   "cell_type": "markdown",
   "metadata": {},
   "source": [
    "- We can infer from plot that after 30 epoches model no longer improving (decreasing loss) so we are stopping the trainning early"
   ]
  },
  {
   "cell_type": "markdown",
   "metadata": {},
   "source": [
    "#### Build the dictionary to convert the index to word for summary prediction"
   ]
  },
  {
   "cell_type": "code",
   "execution_count": 48,
   "metadata": {},
   "outputs": [],
   "source": [
    "reverse_target_word_index=y_tokenizer.index_word\n",
    "reverse_source_word_index=x_tokenizer.index_word\n",
    "target_word_index=y_tokenizer.word_index"
   ]
  },
  {
   "cell_type": "markdown",
   "metadata": {},
   "source": [
    "## 2. Inference Phase:\n",
    "After training, the model is tested on new source sequences for which the target sequence is unknown. <br />\n",
    "So, we need to set up the inference architecture to decode a test sequence:"
   ]
  },
  {
   "cell_type": "markdown",
   "metadata": {},
   "source": [
    "### Creating Decoder model: Seq2Seq Model"
   ]
  },
  {
   "cell_type": "code",
   "execution_count": 49,
   "metadata": {},
   "outputs": [],
   "source": [
    "# Encode the input sequence to get the feature vector\n",
    "encoder_model = Model(inputs=encoder_inputs,outputs=[encoder_outputs, state_h, state_c])\n",
    "\n",
    "# Decoder setup\n",
    "# Below tensors will hold the states of the previous time step\n",
    "decoder_state_input_h = Input(shape=(latent_dim,))\n",
    "decoder_state_input_c = Input(shape=(latent_dim,))\n",
    "decoder_hidden_state_input = Input(shape=(max_text_len,latent_dim))\n",
    "\n",
    "# Get the embeddings of the decoder sequence\n",
    "dec_emb2= dec_emb_layer(decoder_inputs) \n",
    "# To predict the next word in the sequence, set the initial states to the states from the previous time step\n",
    "decoder_outputs2, state_h2, state_c2 = decoder_lstm(dec_emb2, initial_state=[decoder_state_input_h, decoder_state_input_c])\n",
    "\n",
    "#attention inference\n",
    "attn_out_inf, attn_states_inf = attn_layer([decoder_hidden_state_input, decoder_outputs2])\n",
    "decoder_inf_concat = Concatenate(axis=-1, name='concat')([decoder_outputs2, attn_out_inf])\n",
    "\n",
    "# A dense softmax layer to generate prob dist. over the target vocabulary\n",
    "decoder_outputs2 = decoder_dense(decoder_inf_concat) \n",
    "\n",
    "# Final decoder model\n",
    "decoder_model = Model([decoder_inputs] + [decoder_hidden_state_input,decoder_state_input_h, decoder_state_input_c],\n",
    "                      [decoder_outputs2] + [state_h2, state_c2])"
   ]
  },
  {
   "cell_type": "code",
   "execution_count": 50,
   "metadata": {},
   "outputs": [
    {
     "name": "stdout",
     "output_type": "stream",
     "text": [
      "Model: \"model_4\"\n",
      "__________________________________________________________________________________________________\n",
      "Layer (type)                    Output Shape         Param #     Connected to                     \n",
      "==================================================================================================\n",
      "input_2 (InputLayer)            [(None, None)]       0                                            \n",
      "__________________________________________________________________________________________________\n",
      "embedding_1 (Embedding)         (None, None, 100)    228700      input_2[0][0]                    \n",
      "__________________________________________________________________________________________________\n",
      "input_6 (InputLayer)            [(None, 300)]        0                                            \n",
      "__________________________________________________________________________________________________\n",
      "input_7 (InputLayer)            [(None, 300)]        0                                            \n",
      "__________________________________________________________________________________________________\n",
      "lstm_3 (LSTM)                   [(None, None, 300),  481200      embedding_1[2][0]                \n",
      "                                                                 input_6[0][0]                    \n",
      "                                                                 input_7[0][0]                    \n",
      "__________________________________________________________________________________________________\n",
      "input_8 (InputLayer)            [(None, 45, 300)]    0                                            \n",
      "__________________________________________________________________________________________________\n",
      "attention_layer (AttentionLayer ((None, None, 300),  180300      input_8[0][0]                    \n",
      "                                                                 lstm_3[2][0]                     \n",
      "__________________________________________________________________________________________________\n",
      "concat (Concatenate)            (None, None, 600)    0           lstm_3[2][0]                     \n",
      "                                                                 attention_layer[2][0]            \n",
      "__________________________________________________________________________________________________\n",
      "time_distributed (TimeDistribut (None, None, 2287)   1374487     concat[0][0]                     \n",
      "==================================================================================================\n",
      "Total params: 2,264,687\n",
      "Trainable params: 2,264,687\n",
      "Non-trainable params: 0\n",
      "__________________________________________________________________________________________________\n"
     ]
    }
   ],
   "source": [
    "decoder_model.summary()"
   ]
  },
  {
   "cell_type": "markdown",
   "metadata": {},
   "source": [
    "### Creating Decoding Sequence:\n",
    "#### Steps:\n",
    "    1. Encode the entire input sequence and initialize the decoder with internal states of the encoder\n",
    "    2. Pass `start` token as an input to the decoder\n",
    "    3. Run the decoder for one timestep with the internal states\n",
    "    4. The output will be the probability for the next word. The word with the maximum probability will be selected\n",
    "    5. Pass the sampled word as an input to the decoder in the next timestep and update the internal states with the current time step\n",
    "    6. Repeat steps 3 – 5 until we generate `end` token or hit the maximum length of the target sequence"
   ]
  },
  {
   "cell_type": "code",
   "execution_count": 51,
   "metadata": {},
   "outputs": [],
   "source": [
    "def decode_sequence(input_seq):\n",
    "    # Encode the input as state vectors.\n",
    "    e_out, e_h, e_c = encoder_model.predict(input_seq)\n",
    "    \n",
    "    # Generate empty target sequence of length 1.\n",
    "    target_seq = np.zeros((1,1))\n",
    "    \n",
    "    # Populate the first word of target sequence with the start word.\n",
    "    target_seq[0, 0] = target_word_index['sostok']\n",
    "\n",
    "    stop_condition = False\n",
    "    decoded_sentence = ''\n",
    "    while not stop_condition:\n",
    "        # Making predictions     \n",
    "        output_tokens, h, c = decoder_model.predict([target_seq] + [e_out, e_h, e_c])\n",
    "\n",
    "        # Sample a token\n",
    "        sampled_token_index = np.argmax(output_tokens[0, -1, :])\n",
    "        sampled_token = reverse_target_word_index[sampled_token_index]\n",
    "        \n",
    "        if(sampled_token!='eostok'):\n",
    "            decoded_sentence += ' '+sampled_token\n",
    "\n",
    "        # Exit condition: either hit max length or find stop word.\n",
    "        if (sampled_token == 'eostok'  or len(decoded_sentence.split()) >= (max_summary_len-1)):\n",
    "            stop_condition = True\n",
    "\n",
    "        # Update the target sequence (of length 1).\n",
    "        target_seq = np.zeros((1,1))\n",
    "        target_seq[0, 0] = sampled_token_index\n",
    "\n",
    "        # Update internal states\n",
    "        e_h, e_c = h, c\n",
    "\n",
    "    return decoded_sentence"
   ]
  },
  {
   "cell_type": "markdown",
   "metadata": {},
   "source": [
    "#### Creating _seq2summary_ and _seq2text_ functions to display Original and Predicted results"
   ]
  },
  {
   "cell_type": "code",
   "execution_count": 52,
   "metadata": {},
   "outputs": [],
   "source": [
    "def seq2summary(input_seq):\n",
    "    newString=''\n",
    "    for i in input_seq:\n",
    "        if((i!=0 and i!=target_word_index['sostok']) and i!=target_word_index['eostok']):\n",
    "            newString=newString+reverse_target_word_index[i]+' '\n",
    "    return newString\n",
    "\n",
    "def seq2text(input_seq):\n",
    "    newString=''\n",
    "    for i in input_seq:\n",
    "        if(i!=0):\n",
    "            newString=newString+reverse_source_word_index[i]+' '\n",
    "    return newString"
   ]
  },
  {
   "cell_type": "markdown",
   "metadata": {},
   "source": [
    "## Prediction "
   ]
  },
  {
   "cell_type": "code",
   "execution_count": 53,
   "metadata": {
    "scrolled": false
   },
   "outputs": [
    {
     "name": "stdout",
     "output_type": "stream",
     "text": [
      "1: Review: beans really good added ham slice cooking came great time made soup consistently yummy \n",
      "   Original summary: very tasty \n",
      "   Predicted summary:  great\n",
      "\n",
      "-----------------------------------------------------------------------\n",
      "2: Review: cashews hoping large fresh met expectations recommend koeze anyone looking purchase especially gift disappointed \n",
      "   Original summary: great \n",
      "   Predicted summary:  good but not great\n",
      "\n",
      "-----------------------------------------------------------------------\n",
      "3: Review: chill switch kiwi berry pour pretty wine glass relax enjoy repeat switch kiwi berry pleasing color tantalizing fruity taste enough carbonation pleasurable experience \n",
      "   Original summary: my throat \n",
      "   Predicted summary:  great for the price\n",
      "\n",
      "-----------------------------------------------------------------------\n",
      "4: Review: tea interesting scent like bergamot jasmine unusual flower brewed tea right sniffing dry tea unpleasant think stick republic tea yorkshire gold \n",
      "   Original summary: slightly different from standard earl grey \n",
      "   Predicted summary:  stash tea\n",
      "\n",
      "-----------------------------------------------------------------------\n",
      "5: Review: like decaf coffee think aftertaste thought would give try truly surprised mellow full bodied taste little aftertaste found definitely buy reduce caffein household \n",
      "   Original summary: surprisingly good \n",
      "   Predicted summary:  good coffee\n",
      "\n",
      "-----------------------------------------------------------------------\n",
      "6: Review: excellent offer product quite good packaging included clear plastic bag individual packets placed within cardboard box \n",
      "   Original summary: stevia \n",
      "   Predicted summary:  great product\n",
      "\n",
      "-----------------------------------------------------------------------\n",
      "7: Review: great tasting coffee good first thing morning anytime smooth green mountain puts great tasting coffee flavors blends \n",
      "   Original summary: very good \n",
      "   Predicted summary:  great coffee\n",
      "\n",
      "-----------------------------------------------------------------------\n",
      "8: Review: work type matter solidified got item mail amused shocked directions indicates supposed spray top poop step must flip poop spray well gonna flip crap may well pick damn thing pun product biggest waste money ever \n",
      "   Original summary: terrible product \n",
      "   Predicted summary:  not what expected\n",
      "\n",
      "-----------------------------------------------------------------------\n",
      "9: Review: seeds nice tasty however shipping almost doubles price found local organic seller seeds price much better \n",
      "   Original summary: seeds are good shipping too much \n",
      "   Predicted summary:  good seeds\n",
      "\n",
      "-----------------------------------------------------------------------\n",
      "10: Review: muffin mix makes yummiest cobbler made cobbler peaches raspberries cherries apples blueberries spoon mixture onto cooked fruit like sprinkle cinnamon little stevia bake degrees minutes namaste terrific cookbook also tells make dumplings muffin mix thank namaste yummiest products us gluten intolerant allergies \n",
      "   Original summary: makes amazing \n",
      "   Predicted summary:  best pretzels ever\n",
      "\n",
      "-----------------------------------------------------------------------\n",
      "11: Review: tea junkie absolutely love tea bags like strong black tea \n",
      "   Original summary: love this tea \n",
      "   Predicted summary:  great tea\n",
      "\n",
      "-----------------------------------------------------------------------\n",
      "12: Review: actually cats like mine crave treat every minutes know secret ingredient cannot vouch ingredients sure seem enjoy \n",
      "   Original summary: your cats will it \n",
      "   Predicted summary:  cats love it\n",
      "\n",
      "-----------------------------------------------------------------------\n",
      "13: Review: taffy great flavors soft chewy candy individually wrapped well none candies stuck together happen expensive version would highly recommend candy served beach themed party everyone loved \n",
      "   Original summary: just as good as the expensive brands \n",
      "   Predicted summary:  yummy\n",
      "\n",
      "-----------------------------------------------------------------------\n",
      "14: Review: great live food bars excellent flavor dense enough fill great alternative empty calorie candy bars granola bars taste like cardboard good good \n",
      "   Original summary: great live food bars \n",
      "   Predicted summary:  great bars\n",
      "\n",
      "-----------------------------------------------------------------------\n",
      "15: Review: used harmony valley hamburger substitute several times happy spiced tastes pretty close mixture used sauce stuff peppers cannot tell hamburger meat thrilled performance ease use cannot wait try recipes \n",
      "   Original summary: delicious meat substitute \n",
      "   Predicted summary:  best seasoning ever\n",
      "\n",
      "-----------------------------------------------------------------------\n",
      "16: Review: cats love food one usually touch canned food know canned food much better feel better product include unhealthy grains lot juice picky cat really likes lick juice seen problems vomiting since switched \n",
      "   Original summary: good for my picky cat \n",
      "   Predicted summary:  cats love it\n",
      "\n",
      "-----------------------------------------------------------------------\n",
      "17: Review: coffee excellent price great cup took dive gave disc try wow better cup brands unfortunate draw back cannot seem get disc stores good thing amazon good price \n",
      "   Original summary: not too bad \n",
      "   Predicted summary:  good coffee bad price\n",
      "\n",
      "-----------------------------------------------------------------------\n",
      "18: Review: never knew tuna could taste good yes pricey wow taste difference crave tuna mix mayo put sandwich although could done enjoy straight also great salads \n",
      "   Original summary: wow \n",
      "   Predicted summary:  yummy\n",
      "\n",
      "-----------------------------------------------------------------------\n",
      "19: Review: total net carbs zero according label package total carb less could zero amazon would take return item refund complete order price want true zero carb product also zero fiber listed nothing offset carbs strange since description says made soluble fiber plant \n",
      "   Original summary: description is \n",
      "   Predicted summary:  false advertising\n",
      "\n",
      "-----------------------------------------------------------------------\n",
      "20: Review: month old daughter loves things love messy easily send daycare throw diaper bag fall back pouches get veggies want eat ever veg offer ingredient list simple short feel pretty good giving opposed convenience foods \n",
      "   Original summary: great way to get veggies in \n",
      "   Predicted summary:  great for my son\n",
      "\n",
      "-----------------------------------------------------------------------\n",
      "21: Review: natural coconut water delicious chemical free much better gatorade keep hand times fever dehydration needs \n",
      "   Original summary: healthy \n",
      "   Predicted summary:  great taste\n",
      "\n",
      "-----------------------------------------------------------------------\n",
      "22: Review: living harvest tempt hemp milk really unappealing drink regular milk stuff natural taste sweetness milk alright looking alternative type milk dietary reasons get looking another variety milk taste reasons please pick regular milk grocery store instead \n",
      "   Original summary: eh eh \n",
      "   Predicted summary:  good but not great\n",
      "\n",
      "-----------------------------------------------------------------------\n",
      "23: Review: cup tea mean coffee sharp acrid taste left bitter aftertaste coffee means know like know like like would recommend especially many keurig coffee options \n",
      "   Original summary: not very good \n",
      "   Predicted summary:  not good\n",
      "\n",
      "-----------------------------------------------------------------------\n",
      "24: Review: big taste comes little pouch curry fragrant flavorful extremely easy prepare perfect amount spicy house smells like indian restaurant \n",
      "   Original summary: very tasty \n",
      "   Predicted summary:  great seasoning\n",
      "\n",
      "-----------------------------------------------------------------------\n",
      "25: Review: love soft delicious fruit bars morning tea economical buy bulk prime member also shipping cost \n",
      "   Original summary: breakfast \n",
      "   Predicted summary:  love these\n",
      "\n",
      "-----------------------------------------------------------------------\n",
      "26: Review: definitely moister kippered style jerky ultra dry kind makes teeth hurt see might find oily found brands like definitely works least sweet hot tried flavors sweet hot kinda like chinese spare rib without bone would buy \n",
      "   Original summary: sweet hot is exactly that \n",
      "   Predicted summary:  good but not great\n",
      "\n",
      "-----------------------------------------------------------------------\n",
      "27: Review: bought thinking would getting version real coconut water boy wrong got sweet artificial flavored coconut drink left feeling drank hawaiian tropic oil still get little thinking big fan sobe drinks one missed mark mile \n",
      "   Original summary: the taste was awful \n",
      "   Predicted summary:  not bad\n",
      "\n",
      "-----------------------------------------------------------------------\n",
      "28: Review: love flavors thing like bottle plastic great ones buy store fit new plastic bottles great deal great variety sugar free \n",
      "   Original summary: great variety \n",
      "   Predicted summary:  great value\n",
      "\n",
      "-----------------------------------------------------------------------\n",
      "29: Review: first tried tea doctor office waiting area soooo good looked local supermarket chains egyptian licorice herbal tea one good one favorite introduced son wife also loved taste amazon prices service cannot beat whenever looking product always check amazon first \n",
      "   Original summary: favorite \n",
      "   Predicted summary:  great tea\n",
      "\n",
      "-----------------------------------------------------------------------\n",
      "30: Review: pg tips tea choice go big stash teabags quickly enough get stale great deal price \n",
      "   Original summary: great tea at good price \n",
      "   Predicted summary:  great tea\n",
      "\n",
      "-----------------------------------------------------------------------\n",
      "31: Review: love shockers taste great kind like chewy sweet tart twist sour eat many one time color tongue leave feeling raw best price seen anywhere shockers \n",
      "   Original summary: love the taste fantastic \n",
      "   Predicted summary:  great\n",
      "\n",
      "-----------------------------------------------------------------------\n",
      "32: Review: american bulldog loves puzzle first time using puzzle toy like able figure pretty quick everytime get knows exactly would recommend anyone wants challenge dog little bit definatly something would want let dog use plastic \n",
      "   Original summary: make doggy think \n",
      "   Predicted summary:  my dog loves this\n",
      "\n",
      "-----------------------------------------------------------------------\n",
      "33: Review: dogs love product lot cheaper buy amazon local pet store quick shipping \n",
      "   Original summary: the dogs loved them \n",
      "   Predicted summary:  great product\n",
      "\n",
      "-----------------------------------------------------------------------\n",
      "34: Review: drank going gym woke give shakes jitters like energy drinks done taste decent well bittersweet similiar regular red bull almost like drinking sparkling without fizz \n",
      "   Original summary: very effective \n",
      "   Predicted summary:  good stuff\n",
      "\n",
      "-----------------------------------------------------------------------\n",
      "35: Review: surprise product first week taking product joint pain deceased alot started exercising without soreness reorder product definitely \n",
      "   Original summary: product \n",
      "   Predicted summary:  great product\n",
      "\n",
      "-----------------------------------------------------------------------\n",
      "36: Review: really like chai tea twinings weak chai use two three bags per cup minty taste liking either stash chai much better imo \n",
      "   Original summary: kind of weak mint after taste \n",
      "   Predicted summary:  not bad\n",
      "\n",
      "-----------------------------------------------------------------------\n",
      "37: Review: recently told needed reduce salt health reasons get table tasty try dash mixture vegetable taste however salt taste dissappointed \n",
      "   Original summary: no salty taste \n",
      "   Predicted summary:  not good\n",
      "\n",
      "-----------------------------------------------------------------------\n",
      "38: Review: owned black version machine years made wonderful coffee every day years finally broke going send away saw silver version machine reasonable price shipping tax decided purchase instead far delighted \n",
      "   Original summary: wonderful espresso machine \n",
      "   Predicted summary:  best coffee ever\n",
      "\n",
      "-----------------------------------------------------------------------\n",
      "39: Review: tastes good little sweet first thought lot sugar looked box surprised much \n",
      "   Original summary: good hot cocoa \n",
      "   Predicted summary:  good taste\n",
      "\n",
      "-----------------------------------------------------------------------\n",
      "40: Review: type bulb really good item takes much less power standard bulb puts much light regular bulb size also last longer regular bulb price reasonable \n",
      "   Original summary: quite good \n",
      "   Predicted summary:  good taste\n",
      "\n",
      "-----------------------------------------------------------------------\n",
      "41: Review: unlike mcdonald oatmeal made sugar snickers bar version quite healthy grams sugar per serving ingredient list fairly simple oatmeal sugar mysterious flavorings bunch vitamins perfect quick morning home work rock world convenient healthy \n",
      "   Original summary: simple convenient and healthy \n",
      "   Predicted summary:  delicious\n",
      "\n",
      "-----------------------------------------------------------------------\n",
      "42: Review: excellent experience fast shipping surely continue shop love fresh coffee cannot get stationed overseas stop \n",
      "   Original summary: excellent \n",
      "   Predicted summary:  great coffee\n",
      "\n",
      "-----------------------------------------------------------------------\n",
      "43: Review: kid loves sprout meals complain love way food smells break seal kid loves flavors happy would recommend moms \n",
      "   Original summary: my kid loves this \n",
      "   Predicted summary:  great food\n",
      "\n",
      "-----------------------------------------------------------------------\n",
      "44: Review: gevalia dark roast coffee one favorites could believe amazon reasonable price used christmas heard nothing compliments thanks amazon making \n",
      "   Original summary: gevalia coffee rocks \n",
      "   Predicted summary:  great coffee\n",
      "\n",
      "-----------------------------------------------------------------------\n",
      "45: Review: bought quite lot past son loved like fact organic combination fruits vegetables right \n",
      "   Original summary: good organic option \n",
      "   Predicted summary:  great\n",
      "\n",
      "-----------------------------------------------------------------------\n",
      "46: Review: discovered years ago pork rinds consume makes great quick snack complaint would heat time since microwaves vary much hard determine exact time needed make nice crispy fluffy without cooking flavor always consistent good \n",
      "   Original summary: yumm \n",
      "   Predicted summary:  best pork rinds\n",
      "\n",
      "-----------------------------------------------------------------------\n",
      "47: Review: love brand chai tea delicious cost completely reasonable \n",
      "   Original summary: chai tea \n",
      "   Predicted summary:  great tea\n",
      "\n",
      "-----------------------------------------------------------------------\n",
      "48: Review: love sobe fear unfortunately getting harder harder find taste sold way back started drinking energy drinks work sort sour fruit punch taste ridiculously sweet put ice bad meal either \n",
      "   Original summary: best tasting energy drink out there \n",
      "   Predicted summary:  good but not great\n",
      "\n",
      "-----------------------------------------------------------------------\n",
      "49: Review: illegal last years import kobe beef us cannot kobe beef kobe beef restaurant says kobe beef \n",
      "   Original summary: not beef \n",
      "   Predicted summary:  not beef\n",
      "\n",
      "-----------------------------------------------------------------------\n",
      "50: Review: drinking years absolutely love coffee buy whole bean coffee smooth bitter \n",
      "   Original summary: love this coffee \n",
      "   Predicted summary:  best coffee\n",
      "\n",
      "-----------------------------------------------------------------------\n",
      "51: Review: miserable product cumbersome uncomfortable potato left end peeling adding insult injury clean gloves sink making mess positive point family gets good laugh every christmas certain family member passed giving us year everyone glad found something else give everyone year \n",
      "   Original summary: product \n",
      "   Predicted summary:  great product\n",
      "\n",
      "-----------------------------------------------------------------------\n",
      "52: Review: really like taste coffee complaint coffee grinds end coffee huge fan even though really like taste order bummer \n",
      "   Original summary: yummy coffee not fan of coffee though \n",
      "   Predicted summary:  good coffee\n",
      "\n",
      "-----------------------------------------------------------------------\n",
      "53: Review: dogs love healthy treats like wheat corn soy soft squares make nice sized treat little girls notice first ingredient lamb luxury dog treat \n",
      "   Original summary: on the lamb \n",
      "   Predicted summary:  my dogs love these\n",
      "\n",
      "-----------------------------------------------------------------------\n",
      "54: Review: product exactly presented arrived date stated ordering recommend anyone loved folgers drip coffee makers \n",
      "   Original summary: folgers cups for keurig \n",
      "   Predicted summary:  great coffee\n",
      "\n",
      "-----------------------------------------------------------------------\n",
      "55: Review: use toast brown rice pasta canola oil etc major staple low saturated fat unprocessed healthy home recommend highly \n",
      "   Original summary: this stuff the best \n",
      "   Predicted summary:  great for cooking\n",
      "\n",
      "-----------------------------------------------------------------------\n",
      "56: Review: seasonings also blend first personal favorites absolutely delicious also versatile olive oil bread dipping better yet use cook chicken ground turkey burgers fish anything think tried seasonings supermarket waste money get lot seasoning ton delicious flavor dean jacob seasoning collection \n",
      "   Original summary: very delicious \n",
      "   Predicted summary:  great for the price\n",
      "\n",
      "-----------------------------------------------------------------------\n",
      "57: Review: second order excellent seasoning members family especially grandkids love fish friends purchase \n",
      "   Original summary: family favorite \n",
      "   Predicted summary:  great seasoning\n",
      "\n",
      "-----------------------------------------------------------------------\n",
      "58: Review: first sampled chips california big chip lover far best chips ever better baked greasy sturdy dips highly recommend chips chip lover \n",
      "   Original summary: the best chips ever \n",
      "   Predicted summary:  great chips\n",
      "\n",
      "-----------------------------------------------------------------------\n",
      "59: Review: like spicy snack food love product favorite ketchup fries tried buffalo one wow hot good regular ones good store stock buying real tasty buy also weight light trans fats yum \n",
      "   Original summary: yummy \n",
      "   Predicted summary:  delicious\n",
      "\n",
      "-----------------------------------------------------------------------\n",
      "60: Review: love mario batali sauce flavorful enough serve without needed additional heat boost herbs spice onions garlic san marzano tomatoes give bit zing little everything \n",
      "   Original summary: very disappointing \n",
      "   Predicted summary:  not the best\n",
      "\n",
      "-----------------------------------------------------------------------\n",
      "61: Review: trouble finding locally delivery fast hunting flour aisle local grocery stores \n",
      "   Original summary: yum \n",
      "   Predicted summary:  great product\n",
      "\n",
      "-----------------------------------------------------------------------\n",
      "62: Review: prefer bold richly flavored coffee morning time breakfast blend best kcup market tried ton bold overpowering great aftertaste \n",
      "   Original summary: my go to kcup \n",
      "   Predicted summary:  great coffee\n",
      "\n",
      "-----------------------------------------------------------------------\n",
      "63: Review: toy great dog loves feed dog food eat fast beginning took sometime learn get treats eats whole cup minutes \n",
      "   Original summary: great for your dog \n",
      "   Predicted summary:  my dog loves it\n",
      "\n",
      "-----------------------------------------------------------------------\n",
      "64: Review: baby loves rice lentil one favorite things eat going somewhere able warm food eat one cold \n",
      "   Original summary: great \n",
      "   Predicted summary:  great for baby\n",
      "\n",
      "-----------------------------------------------------------------------\n",
      "65: Review: found local three dogs love love love cookies could find little ones grocery bought big cookies huge ordered little ones dog go nuts \n",
      "   Original summary: your dog blue with \n",
      "   Predicted summary:  my dogs love these cookies\n",
      "\n",
      "-----------------------------------------------------------------------\n",
      "66: Review: started drinking french vanilla coffee awhile back twice day local wal mart stopped selling luckily found amazon coffee drink combined splenda sugar free french vanilla creamer oh yummy \n",
      "   Original summary: cannot buy it anywhere \n",
      "   Predicted summary:  great coffee\n",
      "\n",
      "-----------------------------------------------------------------------\n",
      "67: Review: husband looking product store nowhere found happy camper \n",
      "   Original summary: found them \n",
      "   Predicted summary:  good product\n",
      "\n",
      "-----------------------------------------------------------------------\n",
      "68: Review: like soft licorice cats perfect anise balance salty sweet little licorice kitties perfect pop one mouth let melt bit flavorful chewy journey hard exterior lasts forever suck everlasting licorice fresh super fast shopping thank guys \n",
      "   Original summary: perfect for hard licorice lovers \n",
      "   Predicted summary:  great gift\n",
      "\n",
      "-----------------------------------------------------------------------\n",
      "69: Review: wonderful stuff great ice tea hot tea ice cream stale pound cake \n",
      "   Original summary: really great syrup \n",
      "   Predicted summary:  great tea\n",
      "\n",
      "-----------------------------------------------------------------------\n",
      "70: Review: oz min time french vanilla creamer aromatic sweet creamy treat \n",
      "   Original summary: in cup \n",
      "   Predicted summary:  good coffee\n",
      "\n",
      "-----------------------------------------------------------------------\n",
      "71: Review: tea absolutely delicious become new favorite tea flavor fantastic delicate mild beautiful floral scent perfect paired honey highly recommend tea bought pack six went fast everyone family loves \n",
      "   Original summary: delicious \n",
      "   Predicted summary:  great tea\n",
      "\n",
      "-----------------------------------------------------------------------\n",
      "72: Review: great taste bowl pops time causes bowl jump slightly air rotating middle turn creating big mess keep center keep eye \n",
      "   Original summary: super yummy \n",
      "   Predicted summary:  yummy\n",
      "\n",
      "-----------------------------------------------------------------------\n",
      "73: Review: sun lemonade drink handy good tasting kids really like flavor like controlled amount drink pouch comes straw pointy end puncture pouch easy make spout squeeze pouch little kids might need adult help convenient highly recommended \n",
      "   Original summary: convenient snack size drink pouch highly recommended \n",
      "   Predicted summary:  great taste\n",
      "\n",
      "-----------------------------------------------------------------------\n",
      "74: Review: never ordered know expect certainly high price scorched dog cookies big surprise threw never order anything made evo quality control price reduced garbage still garbage half price going ask amazon refund money \n",
      "   Original summary: dog cookies \n",
      "   Predicted summary:  not my dog loved them\n",
      "\n",
      "-----------------------------------------------------------------------\n",
      "75: Review: really like mccann steel cut oats find cook often tastes much better grocery store brands convenient anything keeps eating oatmeal regularly good thing \n",
      "   Original summary: great taste and convenience \n",
      "   Predicted summary:  great taste\n",
      "\n",
      "-----------------------------------------------------------------------\n",
      "76: Review: stuff great pay four bottles \n",
      "   Original summary: horribly overpriced \n",
      "   Predicted summary:  great product\n",
      "\n",
      "-----------------------------------------------------------------------\n",
      "77: Review: yuban one best coffees available sold areas amazon case price unbeatable get case every weeks always time \n",
      "   Original summary: best coffee at best price \n",
      "   Predicted summary:  great coffee\n",
      "\n",
      "-----------------------------------------------------------------------\n",
      "78: Review: reading recent article new york times excited get food finicky kitty purchased variety pack since wanted test preference pretty much hated sniffed looked would go near smelled pretty awful well \n",
      "   Original summary: cat this food \n",
      "   Predicted summary:  not my cat food\n",
      "\n",
      "-----------------------------------------------------------------------\n",
      "79: Review: even though pricey old aussie shep loves glad special senior formula thanks greenies \n",
      "   Original summary: love these for my old \n",
      "   Predicted summary:  my dog loves these\n",
      "\n",
      "-----------------------------------------------------------------------\n",
      "80: Review: buy mostly vending size bag important kettle oz bag good size although seems bit less full salt vinegar flavor satisfying \n",
      "   Original summary: glad to find them in oz size \n",
      "   Predicted summary:  good but not great\n",
      "\n",
      "-----------------------------------------------------------------------\n",
      "81: Review: cans came crushed six open leaking everything amazon six open cans however opening rest black spots top never sold think cans old merchandise never buy product \n",
      "   Original summary: bad experience \n",
      "   Predicted summary:  not as pictured\n",
      "\n",
      "-----------------------------------------------------------------------\n",
      "82: Review: cereal last long house within couple days gone good crunchy tasty \n",
      "   Original summary: them up \n",
      "   Predicted summary:  great cereal\n",
      "\n",
      "-----------------------------------------------------------------------\n",
      "83: Review: fall winter favorite mine love making tassimo super easy make always tastes delicious \n",
      "   Original summary: peppermint mocha is delicious \n",
      "   Predicted summary:  best coffee\n",
      "\n",
      "-----------------------------------------------------------------------\n",
      "84: Review: love larabars love pistachios pistachio larabars awful horrid fruitcake taste enough pistachios back cashew cookie cherry pie \n",
      "   Original summary: ick \n",
      "   Predicted summary:  gross\n",
      "\n",
      "-----------------------------------------------------------------------\n",
      "85: Review: like flavors metromint water cherrymint believe acquired taste love water everything look sweeteners calories enough taste make nice drink \n",
      "   Original summary: excellent flavored water \n",
      "   Predicted summary:  great water\n",
      "\n",
      "-----------------------------------------------------------------------\n",
      "86: Review: enjoy bigelow green teas enjoy tea well steeped properly delicate flavor hints pomegranate acai overpowering nearly strong opinion bigelow green tea delivers wonderful organic option enjoy almost daily subscribe save delivery makes affordable worthwhile purchase highly recommend lovers green teas herbal teas organic teas \n",
      "   Original summary: light and delicious tea with pleasant aroma \n",
      "   Predicted summary:  great tea\n",
      "\n",
      "-----------------------------------------------------------------------\n",
      "87: Review: nice purchase didnt like fact put together wasnt difficult product description didnt mention part still alive months \n",
      "   Original summary: loving the lucky \n",
      "   Predicted summary:  not as advertised\n",
      "\n",
      "-----------------------------------------------------------------------\n",
      "88: Review: flavor texture noodle delicious comparison plain wheat angel hair pasta tastes quite bland added benefit artichoke nice bonus even definitely recommend \n",
      "   Original summary: delicious \n",
      "   Predicted summary:  great noodles\n",
      "\n",
      "-----------------------------------------------------------------------\n",
      "89: Review: dog food ran two weeks ago local source bought competitor called equivalent see suffer itching belly aches ordered amazon yesterday free shipping sent hours later recieved today \n",
      "   Original summary: newman own organic dog food \n",
      "   Predicted summary:  dog food\n",
      "\n",
      "-----------------------------------------------------------------------\n",
      "90: Review: loaded salt like spice blends enjoyed quite bit \n",
      "   Original summary: tastes great \n",
      "   Predicted summary:  great salt\n",
      "\n",
      "-----------------------------------------------------------------------\n",
      "91: Review: company products best caffeine free makes feel good live stuff drink whole day work everyday \n",
      "   Original summary: love this stuff \n",
      "   Predicted summary:  great\n",
      "\n",
      "-----------------------------------------------------------------------\n",
      "92: Review: love chips crunchy slightly sweet salty really delicious love gluten free free lot things great flavor \n",
      "   Original summary: so delicious \n",
      "   Predicted summary:  great chips\n",
      "\n",
      "-----------------------------------------------------------------------\n",
      "93: Review: wonderful surprise find lucy amazon com enjoyed cookie much enjoy lucy since going gluten free several years ago right crunch sweet enough right size right mm factor thank dr lucy sharing lemonade made dietary lemons life gave given many appreciated mm mm mm moments \n",
      "   Original summary: mm \n",
      "   Predicted summary:  delicious\n",
      "\n",
      "-----------------------------------------------------------------------\n",
      "94: Review: enough pressure gives weak espresso looks like watery coffee threw \n",
      "   Original summary: waste of money \n",
      "   Predicted summary:  weak\n",
      "\n",
      "-----------------------------------------------------------------------\n",
      "95: Review: think hands best rtd market issues chunks review states product separation keeping cold may help also past expiration date reason send back fast convenient tastes great \n",
      "   Original summary: best on the market \n",
      "   Predicted summary:  great product\n",
      "\n",
      "-----------------------------------------------------------------------\n",
      "96: Review: good buy real food corn syrup main taste sugared cardboard \n",
      "   Original summary: looking for cereal sugar high \n",
      "   Predicted summary:  not good\n",
      "\n",
      "-----------------------------------------------------------------------\n",
      "97: Review: coconut dreams come true girl scouts able get cookies almost years long keebler making buying unless girl scout finds first deliciously perfect samoas replacement \n",
      "   Original summary: thank you keebler \n",
      "   Predicted summary:  great cookies\n",
      "\n",
      "-----------------------------------------------------------------------\n",
      "98: Review: boys eating years recently box like much easier open used sharp edges made easy get paper cuts seems recipe changed bar softer used boys still like eat day long let \n",
      "   Original summary: my boys love these \n",
      "   Predicted summary:  my dog loves these\n",
      "\n",
      "-----------------------------------------------------------------------\n",
      "99: Review: tried samu whim thinking would taste like many coconut water drinks surprise samu fantastic tastes fresh right amount sugar brings subtle along design pretty cool purchase independent label highly recommend product sure continue purchase \n",
      "   Original summary: very tasty \n",
      "   Predicted summary:  delicious\n",
      "\n",
      "-----------------------------------------------------------------------\n",
      "100: Review: must gotten scraps tree inches tall crossed since adding water loose nothing like pictures descriptions green box ashamed send anything like would never bought would never accepted gift probably trash next week money tree lost money make killing customers internet \n",
      "   Original summary: it will be away looks like \n",
      "   Predicted summary:  horrible\n",
      "\n",
      "-----------------------------------------------------------------------\n"
     ]
    }
   ],
   "source": [
    "for i in range(0, 100):\n",
    "    print(f\"{i+1}: Review: {seq2text(x_tr[i])}\")\n",
    "    print(f\"   Original summary: {seq2summary(y_tr[i])}\")\n",
    "    print(f\"   Predicted summary: {decode_sequence(x_tr[i].reshape(1,max_text_len))}\")\n",
    "    print(\"\\n-----------------------------------------------------------------------\")"
   ]
  },
  {
   "cell_type": "markdown",
   "metadata": {},
   "source": [
    "# Conclusion:\n",
    "\n",
    "- **We have successfully summarized the reviews of amazone fine food**\n",
    "- **We have implemented Abstractive text summarization**\n",
    "- **We cleaned and process data using Beautiful Soup, Regular expression, wordnet to remove stopword, and using custom data contractions method**  \n",
    "- **Tokenized the data and splited into 80% - 20% test and train respectively**\n",
    "- **We used LSTM Encoder-decoder architecture for text data parsing and modeling**\n",
    "- **The reviews are summarized using Seq2Seq architecture**\n"
   ]
  },
  {
   "cell_type": "code",
   "execution_count": null,
   "metadata": {},
   "outputs": [],
   "source": []
  }
 ],
 "metadata": {
  "kernelspec": {
   "display_name": "NLP_GPU_TF15",
   "language": "python",
   "name": "nlp_gpu_tf15"
  },
  "language_info": {
   "codemirror_mode": {
    "name": "ipython",
    "version": 3
   },
   "file_extension": ".py",
   "mimetype": "text/x-python",
   "name": "python",
   "nbconvert_exporter": "python",
   "pygments_lexer": "ipython3",
   "version": "3.6.12"
  }
 },
 "nbformat": 4,
 "nbformat_minor": 4
}
